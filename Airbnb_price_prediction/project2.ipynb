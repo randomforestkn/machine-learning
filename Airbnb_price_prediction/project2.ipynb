{
  "nbformat": 4,
  "nbformat_minor": 0,
  "metadata": {
    "colab": {
      "provenance": [],
      "collapsed_sections": []
    },
    "kernelspec": {
      "name": "python3",
      "display_name": "Python 3"
    },
    "language_info": {
      "name": "python"
    }
  },
  "cells": [
    {
      "cell_type": "markdown",
      "source": [
        "**1. Problem defition**\n",
        "\n",
        "We want to predict the price of an Airbnb house, given its attributes."
      ],
      "metadata": {
        "id": "sag-xNDBIzMc"
      }
    },
    {
      "cell_type": "markdown",
      "source": [
        "**2. Data**\n",
        "\n",
        "listings.csv is the dataset"
      ],
      "metadata": {
        "id": "XcRjktzEW5CY"
      }
    },
    {
      "cell_type": "markdown",
      "source": [
        "**3. Evaluation**\n",
        "\n",
        "The metrics we  use for evaluating the results are Mean Absolute Error, Mean Absolute Percentage Error"
      ],
      "metadata": {
        "id": "x7OSEuneJ8j9"
      }
    },
    {
      "cell_type": "code",
      "execution_count": 4,
      "metadata": {
        "id": "yG79n1NHH2b-"
      },
      "outputs": [],
      "source": [
        "import numpy as np\n",
        "import pandas as pd \n",
        "import matplotlib.pyplot as plt \n",
        "import sklearn\n",
        "from sklearn.model_selection import train_test_split"
      ]
    },
    {
      "cell_type": "code",
      "source": [
        "df = pd.read_csv('listings.csv', parse_dates=['host_since'])"
      ],
      "metadata": {
        "id": "hYdsFpfgIGe2"
      },
      "execution_count": 5,
      "outputs": []
    },
    {
      "cell_type": "code",
      "source": [
        "df.shape"
      ],
      "metadata": {
        "colab": {
          "base_uri": "https://localhost:8080/"
        },
        "id": "JNAdTP1CKAzx",
        "outputId": "07433de9-6833-4b32-94ff-f930a6e6e7a8"
      },
      "execution_count": 6,
      "outputs": [
        {
          "output_type": "execute_result",
          "data": {
            "text/plain": [
              "(9582, 67)"
            ]
          },
          "metadata": {},
          "execution_count": 6
        }
      ]
    },
    {
      "cell_type": "code",
      "source": [
        "df.info()"
      ],
      "metadata": {
        "colab": {
          "base_uri": "https://localhost:8080/"
        },
        "id": "RpVKVihmPMjb",
        "outputId": "139b32c8-5872-4e94-94fb-cb458ee2cb0e"
      },
      "execution_count": 7,
      "outputs": [
        {
          "output_type": "stream",
          "name": "stdout",
          "text": [
            "<class 'pandas.core.frame.DataFrame'>\n",
            "RangeIndex: 9582 entries, 0 to 9581\n",
            "Data columns (total 67 columns):\n",
            " #   Column                                        Non-Null Count  Dtype         \n",
            "---  ------                                        --------------  -----         \n",
            " 0   id                                            9582 non-null   int64         \n",
            " 1   listing_url                                   9582 non-null   object        \n",
            " 2   scrape_id                                     9582 non-null   int64         \n",
            " 3   last_scraped                                  9582 non-null   object        \n",
            " 4   name                                          9579 non-null   object        \n",
            " 5   description                                   9486 non-null   object        \n",
            " 6   neighborhood_overview                         6622 non-null   object        \n",
            " 7   picture_url                                   9582 non-null   object        \n",
            " 8   host_id                                       9582 non-null   int64         \n",
            " 9   host_url                                      9582 non-null   object        \n",
            " 10  host_name                                     9579 non-null   object        \n",
            " 11  host_since                                    9579 non-null   datetime64[ns]\n",
            " 12  host_location                                 9564 non-null   object        \n",
            " 13  host_about                                    5466 non-null   object        \n",
            " 14  host_response_time                            7338 non-null   object        \n",
            " 15  host_response_rate                            7338 non-null   object        \n",
            " 16  host_acceptance_rate                          7278 non-null   object        \n",
            " 17  host_is_superhost                             9579 non-null   object        \n",
            " 18  host_thumbnail_url                            9579 non-null   object        \n",
            " 19  host_picture_url                              9579 non-null   object        \n",
            " 20  host_neighbourhood                            7114 non-null   object        \n",
            " 21  host_listings_count                           9579 non-null   float64       \n",
            " 22  host_total_listings_count                     9579 non-null   float64       \n",
            " 23  host_verifications                            9582 non-null   object        \n",
            " 24  host_has_profile_pic                          9579 non-null   object        \n",
            " 25  host_identity_verified                        9579 non-null   object        \n",
            " 26  neighbourhood                                 6622 non-null   object        \n",
            " 27  neighbourhood_cleansed                        9582 non-null   object        \n",
            " 28  neighbourhood_group_cleansed                  0 non-null      float64       \n",
            " 29  latitude                                      9582 non-null   float64       \n",
            " 30  longitude                                     9582 non-null   float64       \n",
            " 31  property_type                                 9582 non-null   object        \n",
            " 32  room_type                                     9582 non-null   object        \n",
            " 33  accommodates                                  9582 non-null   int64         \n",
            " 34  bathrooms                                     0 non-null      float64       \n",
            " 35  bathrooms_text                                9572 non-null   object        \n",
            " 36  bedrooms                                      8769 non-null   float64       \n",
            " 37  beds                                          9514 non-null   float64       \n",
            " 38  amenities                                     9582 non-null   object        \n",
            " 39  price                                         9582 non-null   object        \n",
            " 40  minimum_nights                                9582 non-null   int64         \n",
            " 41  maximum_nights                                9582 non-null   int64         \n",
            " 42  minimum_minimum_nights                        9582 non-null   int64         \n",
            " 43  maximum_minimum_nights                        9582 non-null   int64         \n",
            " 44  minimum_maximum_nights                        9582 non-null   int64         \n",
            " 45  maximum_maximum_nights                        9582 non-null   int64         \n",
            " 46  minimum_nights_avg_ntm                        9582 non-null   float64       \n",
            " 47  maximum_nights_avg_ntm                        9582 non-null   float64       \n",
            " 48  calendar_updated                              0 non-null      float64       \n",
            " 49  has_availability                              9582 non-null   object        \n",
            " 50  availability_30                               9582 non-null   int64         \n",
            " 51  availability_60                               9582 non-null   int64         \n",
            " 52  availability_90                               9582 non-null   int64         \n",
            " 53  availability_365                              9582 non-null   int64         \n",
            " 54  calendar_last_scraped                         9582 non-null   object        \n",
            " 55  number_of_reviews                             9582 non-null   int64         \n",
            " 56  number_of_reviews_ltm                         9582 non-null   int64         \n",
            " 57  number_of_reviews_l30d                        9582 non-null   int64         \n",
            " 58  first_review                                  7874 non-null   object        \n",
            " 59  last_review                                   7874 non-null   object        \n",
            " 60  license                                       7660 non-null   object        \n",
            " 61  instant_bookable                              9582 non-null   object        \n",
            " 62  calculated_host_listings_count                9582 non-null   int64         \n",
            " 63  calculated_host_listings_count_entire_homes   9582 non-null   int64         \n",
            " 64  calculated_host_listings_count_private_rooms  9582 non-null   int64         \n",
            " 65  calculated_host_listings_count_shared_rooms   9582 non-null   int64         \n",
            " 66  reviews_per_month                             7874 non-null   float64       \n",
            "dtypes: datetime64[ns](1), float64(12), int64(21), object(33)\n",
            "memory usage: 4.9+ MB\n"
          ]
        }
      ]
    },
    {
      "cell_type": "code",
      "source": [
        "df.columns"
      ],
      "metadata": {
        "colab": {
          "base_uri": "https://localhost:8080/"
        },
        "id": "_LZhEhbnYz0A",
        "outputId": "b9a96071-509e-4b63-f749-ade81501df89"
      },
      "execution_count": 8,
      "outputs": [
        {
          "output_type": "execute_result",
          "data": {
            "text/plain": [
              "Index(['id', 'listing_url', 'scrape_id', 'last_scraped', 'name', 'description',\n",
              "       'neighborhood_overview', 'picture_url', 'host_id', 'host_url',\n",
              "       'host_name', 'host_since', 'host_location', 'host_about',\n",
              "       'host_response_time', 'host_response_rate', 'host_acceptance_rate',\n",
              "       'host_is_superhost', 'host_thumbnail_url', 'host_picture_url',\n",
              "       'host_neighbourhood', 'host_listings_count',\n",
              "       'host_total_listings_count', 'host_verifications',\n",
              "       'host_has_profile_pic', 'host_identity_verified', 'neighbourhood',\n",
              "       'neighbourhood_cleansed', 'neighbourhood_group_cleansed', 'latitude',\n",
              "       'longitude', 'property_type', 'room_type', 'accommodates', 'bathrooms',\n",
              "       'bathrooms_text', 'bedrooms', 'beds', 'amenities', 'price',\n",
              "       'minimum_nights', 'maximum_nights', 'minimum_minimum_nights',\n",
              "       'maximum_minimum_nights', 'minimum_maximum_nights',\n",
              "       'maximum_maximum_nights', 'minimum_nights_avg_ntm',\n",
              "       'maximum_nights_avg_ntm', 'calendar_updated', 'has_availability',\n",
              "       'availability_30', 'availability_60', 'availability_90',\n",
              "       'availability_365', 'calendar_last_scraped', 'number_of_reviews',\n",
              "       'number_of_reviews_ltm', 'number_of_reviews_l30d', 'first_review',\n",
              "       'last_review', 'license', 'instant_bookable',\n",
              "       'calculated_host_listings_count',\n",
              "       'calculated_host_listings_count_entire_homes',\n",
              "       'calculated_host_listings_count_private_rooms',\n",
              "       'calculated_host_listings_count_shared_rooms', 'reviews_per_month'],\n",
              "      dtype='object')"
            ]
          },
          "metadata": {},
          "execution_count": 8
        }
      ]
    },
    {
      "cell_type": "code",
      "source": [
        "df = df[['host_since','host_is_superhost', 'host_listings_count', 'host_identity_verified',\n",
        "        'neighbourhood_cleansed', 'latitude',\n",
        "        'longitude', 'property_type', 'room_type', 'accommodates',\n",
        "        'bathrooms_text', 'beds', 'amenities', 'price',\n",
        "        'minimum_nights', 'maximum_nights', 'has_availability',\n",
        "        'availability_30', 'availability_60', 'availability_90',\n",
        "        'availability_365', 'number_of_reviews',\n",
        "        'number_of_reviews_ltm', 'number_of_reviews_l30d', 'license', 'instant_bookable', 'reviews_per_month']]"
      ],
      "metadata": {
        "id": "zFy26hhlZV8s"
      },
      "execution_count": 9,
      "outputs": []
    },
    {
      "cell_type": "code",
      "source": [
        "df.shape"
      ],
      "metadata": {
        "colab": {
          "base_uri": "https://localhost:8080/"
        },
        "id": "5snF-YCwaAzi",
        "outputId": "98123224-350c-4838-e35c-03bbcefa634a"
      },
      "execution_count": 10,
      "outputs": [
        {
          "output_type": "execute_result",
          "data": {
            "text/plain": [
              "(9582, 27)"
            ]
          },
          "metadata": {},
          "execution_count": 10
        }
      ]
    },
    {
      "cell_type": "code",
      "source": [
        "df.info()"
      ],
      "metadata": {
        "colab": {
          "base_uri": "https://localhost:8080/"
        },
        "id": "L6SBTkZgbUsH",
        "outputId": "b78297bc-3be4-43d9-c9bb-c09d3ed35f6e"
      },
      "execution_count": 11,
      "outputs": [
        {
          "output_type": "stream",
          "name": "stdout",
          "text": [
            "<class 'pandas.core.frame.DataFrame'>\n",
            "RangeIndex: 9582 entries, 0 to 9581\n",
            "Data columns (total 27 columns):\n",
            " #   Column                  Non-Null Count  Dtype         \n",
            "---  ------                  --------------  -----         \n",
            " 0   host_since              9579 non-null   datetime64[ns]\n",
            " 1   host_is_superhost       9579 non-null   object        \n",
            " 2   host_listings_count     9579 non-null   float64       \n",
            " 3   host_identity_verified  9579 non-null   object        \n",
            " 4   neighbourhood_cleansed  9582 non-null   object        \n",
            " 5   latitude                9582 non-null   float64       \n",
            " 6   longitude               9582 non-null   float64       \n",
            " 7   property_type           9582 non-null   object        \n",
            " 8   room_type               9582 non-null   object        \n",
            " 9   accommodates            9582 non-null   int64         \n",
            " 10  bathrooms_text          9572 non-null   object        \n",
            " 11  beds                    9514 non-null   float64       \n",
            " 12  amenities               9582 non-null   object        \n",
            " 13  price                   9582 non-null   object        \n",
            " 14  minimum_nights          9582 non-null   int64         \n",
            " 15  maximum_nights          9582 non-null   int64         \n",
            " 16  has_availability        9582 non-null   object        \n",
            " 17  availability_30         9582 non-null   int64         \n",
            " 18  availability_60         9582 non-null   int64         \n",
            " 19  availability_90         9582 non-null   int64         \n",
            " 20  availability_365        9582 non-null   int64         \n",
            " 21  number_of_reviews       9582 non-null   int64         \n",
            " 22  number_of_reviews_ltm   9582 non-null   int64         \n",
            " 23  number_of_reviews_l30d  9582 non-null   int64         \n",
            " 24  license                 7660 non-null   object        \n",
            " 25  instant_bookable        9582 non-null   object        \n",
            " 26  reviews_per_month       7874 non-null   float64       \n",
            "dtypes: datetime64[ns](1), float64(5), int64(10), object(11)\n",
            "memory usage: 2.0+ MB\n"
          ]
        }
      ]
    },
    {
      "cell_type": "code",
      "source": [
        "df['price'] = df['price'].str.replace('.', '').str.replace('$', '').str.replace(',', '').astype(int) "
      ],
      "metadata": {
        "colab": {
          "base_uri": "https://localhost:8080/"
        },
        "id": "H0NpGvSN2Ama",
        "outputId": "26ac59cb-a45c-4eb8-d9c8-7bd33c6dd014"
      },
      "execution_count": 12,
      "outputs": [
        {
          "output_type": "stream",
          "name": "stderr",
          "text": [
            "/usr/local/lib/python3.7/dist-packages/ipykernel_launcher.py:1: FutureWarning: The default value of regex will change from True to False in a future version. In addition, single character regular expressions will *not* be treated as literal strings when regex=True.\n",
            "  \"\"\"Entry point for launching an IPython kernel.\n"
          ]
        }
      ]
    },
    {
      "cell_type": "code",
      "source": [
        "df['price'] = df['price'] // 100"
      ],
      "metadata": {
        "id": "myGevFb00j8_"
      },
      "execution_count": 13,
      "outputs": []
    },
    {
      "cell_type": "code",
      "source": [
        "df.head().T"
      ],
      "metadata": {
        "colab": {
          "base_uri": "https://localhost:8080/",
          "height": 974
        },
        "id": "TFZ8FSPPav5q",
        "outputId": "0d02a49f-625f-43d5-b88c-28067a4ed1fa"
      },
      "execution_count": 15,
      "outputs": [
        {
          "output_type": "execute_result",
          "data": {
            "text/plain": [
              "                                                                        0  \\\n",
              "host_since                                            2009-09-08 00:00:00   \n",
              "host_is_superhost                                                       t   \n",
              "host_listings_count                                                   6.0   \n",
              "host_identity_verified                                                  t   \n",
              "neighbourhood_cleansed                                        ΑΜΠΕΛΟΚΗΠΟΙ   \n",
              "latitude                                                         37.98863   \n",
              "longitude                                                        23.76527   \n",
              "property_type                                          Entire rental unit   \n",
              "room_type                                                 Entire home/apt   \n",
              "accommodates                                                            8   \n",
              "bathrooms_text                                                    2 baths   \n",
              "beds                                                                  5.0   \n",
              "amenities               [\"Kitchen\", \"Free street parking\", \"Crib\", \"Pa...   \n",
              "price                                                                  79   \n",
              "minimum_nights                                                          1   \n",
              "maximum_nights                                                       1125   \n",
              "has_availability                                                        t   \n",
              "availability_30                                                        19   \n",
              "availability_60                                                        49   \n",
              "availability_90                                                        79   \n",
              "availability_365                                                      170   \n",
              "number_of_reviews                                                      32   \n",
              "number_of_reviews_ltm                                                   7   \n",
              "number_of_reviews_l30d                                                  0   \n",
              "license                                                       00000957568   \n",
              "instant_bookable                                                        t   \n",
              "reviews_per_month                                                    0.41   \n",
              "\n",
              "                                                                        1  \\\n",
              "host_since                                            2009-09-08 00:00:00   \n",
              "host_is_superhost                                                       t   \n",
              "host_listings_count                                                   6.0   \n",
              "host_identity_verified                                                  t   \n",
              "neighbourhood_cleansed                                        ΑΜΠΕΛΟΚΗΠΟΙ   \n",
              "latitude                                                         37.98903   \n",
              "longitude                                                        23.76448   \n",
              "property_type                                          Entire rental unit   \n",
              "room_type                                                 Entire home/apt   \n",
              "accommodates                                                            4   \n",
              "bathrooms_text                                                     1 bath   \n",
              "beds                                                                  1.0   \n",
              "amenities               [\"Kitchen\", \"Luggage dropoff allowed\", \"Free s...   \n",
              "price                                                                  50   \n",
              "minimum_nights                                                          1   \n",
              "maximum_nights                                                       1125   \n",
              "has_availability                                                        t   \n",
              "availability_30                                                        26   \n",
              "availability_60                                                        56   \n",
              "availability_90                                                        86   \n",
              "availability_365                                                      361   \n",
              "number_of_reviews                                                      52   \n",
              "number_of_reviews_ltm                                                  12   \n",
              "number_of_reviews_l30d                                                  1   \n",
              "license                                                       00001070920   \n",
              "instant_bookable                                                        t   \n",
              "reviews_per_month                                                    0.72   \n",
              "\n",
              "                                                                        2  \\\n",
              "host_since                                            2009-09-08 00:00:00   \n",
              "host_is_superhost                                                       t   \n",
              "host_listings_count                                                   6.0   \n",
              "host_identity_verified                                                  t   \n",
              "neighbourhood_cleansed                                        ΑΜΠΕΛΟΚΗΠΟΙ   \n",
              "latitude                                                         37.98888   \n",
              "longitude                                                        23.76473   \n",
              "property_type                                          Entire rental unit   \n",
              "room_type                                                 Entire home/apt   \n",
              "accommodates                                                            2   \n",
              "bathrooms_text                                                     1 bath   \n",
              "beds                                                                  1.0   \n",
              "amenities               [\"Kitchen\", \"Free street parking\", \"Patio or b...   \n",
              "price                                                                  38   \n",
              "minimum_nights                                                          1   \n",
              "maximum_nights                                                       1125   \n",
              "has_availability                                                        t   \n",
              "availability_30                                                        15   \n",
              "availability_60                                                        26   \n",
              "availability_90                                                        56   \n",
              "availability_365                                                      331   \n",
              "number_of_reviews                                                      71   \n",
              "number_of_reviews_ltm                                                  19   \n",
              "number_of_reviews_l30d                                                  3   \n",
              "license                                                       00000957080   \n",
              "instant_bookable                                                        t   \n",
              "reviews_per_month                                                    0.97   \n",
              "\n",
              "                                                                        3  \\\n",
              "host_since                                            2009-09-08 00:00:00   \n",
              "host_is_superhost                                                       t   \n",
              "host_listings_count                                                   6.0   \n",
              "host_identity_verified                                                  t   \n",
              "neighbourhood_cleansed                                        ΑΜΠΕΛΟΚΗΠΟΙ   \n",
              "latitude                                                         37.98903   \n",
              "longitude                                                        23.76448   \n",
              "property_type                                          Entire rental unit   \n",
              "room_type                                                 Entire home/apt   \n",
              "accommodates                                                            4   \n",
              "bathrooms_text                                                     1 bath   \n",
              "beds                                                                  2.0   \n",
              "amenities               [\"Kitchen\", \"Free street parking\", \"Patio or b...   \n",
              "price                                                                  48   \n",
              "minimum_nights                                                          1   \n",
              "maximum_nights                                                       1125   \n",
              "has_availability                                                        t   \n",
              "availability_30                                                        22   \n",
              "availability_60                                                        52   \n",
              "availability_90                                                        82   \n",
              "availability_365                                                      357   \n",
              "number_of_reviews                                                      24   \n",
              "number_of_reviews_ltm                                                   1   \n",
              "number_of_reviews_l30d                                                  0   \n",
              "license                                                       00000957422   \n",
              "instant_bookable                                                        t   \n",
              "reviews_per_month                                                    0.33   \n",
              "\n",
              "                                                                        4  \n",
              "host_since                                            2009-09-08 00:00:00  \n",
              "host_is_superhost                                                       t  \n",
              "host_listings_count                                                   6.0  \n",
              "host_identity_verified                                                  t  \n",
              "neighbourhood_cleansed                                        ΑΜΠΕΛΟΚΗΠΟΙ  \n",
              "latitude                                                         37.98924  \n",
              "longitude                                                          23.765  \n",
              "property_type                                          Entire rental unit  \n",
              "room_type                                                 Entire home/apt  \n",
              "accommodates                                                            4  \n",
              "bathrooms_text                                                     1 bath  \n",
              "beds                                                                  1.0  \n",
              "amenities               [\"Kitchen\", \"Free street parking\", \"Crib\", \"Pa...  \n",
              "price                                                                  47  \n",
              "minimum_nights                                                          1  \n",
              "maximum_nights                                                       1125  \n",
              "has_availability                                                        t  \n",
              "availability_30                                                         0  \n",
              "availability_60                                                        27  \n",
              "availability_90                                                        57  \n",
              "availability_365                                                      208  \n",
              "number_of_reviews                                                      17  \n",
              "number_of_reviews_ltm                                                   0  \n",
              "number_of_reviews_l30d                                                  0  \n",
              "license                                                       00000957579  \n",
              "instant_bookable                                                        t  \n",
              "reviews_per_month                                                    0.23  "
            ],
            "text/html": [
              "\n",
              "  <div id=\"df-7cd7873f-1d43-4fae-8aa2-219d65c53a1a\">\n",
              "    <div class=\"colab-df-container\">\n",
              "      <div>\n",
              "<style scoped>\n",
              "    .dataframe tbody tr th:only-of-type {\n",
              "        vertical-align: middle;\n",
              "    }\n",
              "\n",
              "    .dataframe tbody tr th {\n",
              "        vertical-align: top;\n",
              "    }\n",
              "\n",
              "    .dataframe thead th {\n",
              "        text-align: right;\n",
              "    }\n",
              "</style>\n",
              "<table border=\"1\" class=\"dataframe\">\n",
              "  <thead>\n",
              "    <tr style=\"text-align: right;\">\n",
              "      <th></th>\n",
              "      <th>0</th>\n",
              "      <th>1</th>\n",
              "      <th>2</th>\n",
              "      <th>3</th>\n",
              "      <th>4</th>\n",
              "    </tr>\n",
              "  </thead>\n",
              "  <tbody>\n",
              "    <tr>\n",
              "      <th>host_since</th>\n",
              "      <td>2009-09-08 00:00:00</td>\n",
              "      <td>2009-09-08 00:00:00</td>\n",
              "      <td>2009-09-08 00:00:00</td>\n",
              "      <td>2009-09-08 00:00:00</td>\n",
              "      <td>2009-09-08 00:00:00</td>\n",
              "    </tr>\n",
              "    <tr>\n",
              "      <th>host_is_superhost</th>\n",
              "      <td>t</td>\n",
              "      <td>t</td>\n",
              "      <td>t</td>\n",
              "      <td>t</td>\n",
              "      <td>t</td>\n",
              "    </tr>\n",
              "    <tr>\n",
              "      <th>host_listings_count</th>\n",
              "      <td>6.0</td>\n",
              "      <td>6.0</td>\n",
              "      <td>6.0</td>\n",
              "      <td>6.0</td>\n",
              "      <td>6.0</td>\n",
              "    </tr>\n",
              "    <tr>\n",
              "      <th>host_identity_verified</th>\n",
              "      <td>t</td>\n",
              "      <td>t</td>\n",
              "      <td>t</td>\n",
              "      <td>t</td>\n",
              "      <td>t</td>\n",
              "    </tr>\n",
              "    <tr>\n",
              "      <th>neighbourhood_cleansed</th>\n",
              "      <td>ΑΜΠΕΛΟΚΗΠΟΙ</td>\n",
              "      <td>ΑΜΠΕΛΟΚΗΠΟΙ</td>\n",
              "      <td>ΑΜΠΕΛΟΚΗΠΟΙ</td>\n",
              "      <td>ΑΜΠΕΛΟΚΗΠΟΙ</td>\n",
              "      <td>ΑΜΠΕΛΟΚΗΠΟΙ</td>\n",
              "    </tr>\n",
              "    <tr>\n",
              "      <th>latitude</th>\n",
              "      <td>37.98863</td>\n",
              "      <td>37.98903</td>\n",
              "      <td>37.98888</td>\n",
              "      <td>37.98903</td>\n",
              "      <td>37.98924</td>\n",
              "    </tr>\n",
              "    <tr>\n",
              "      <th>longitude</th>\n",
              "      <td>23.76527</td>\n",
              "      <td>23.76448</td>\n",
              "      <td>23.76473</td>\n",
              "      <td>23.76448</td>\n",
              "      <td>23.765</td>\n",
              "    </tr>\n",
              "    <tr>\n",
              "      <th>property_type</th>\n",
              "      <td>Entire rental unit</td>\n",
              "      <td>Entire rental unit</td>\n",
              "      <td>Entire rental unit</td>\n",
              "      <td>Entire rental unit</td>\n",
              "      <td>Entire rental unit</td>\n",
              "    </tr>\n",
              "    <tr>\n",
              "      <th>room_type</th>\n",
              "      <td>Entire home/apt</td>\n",
              "      <td>Entire home/apt</td>\n",
              "      <td>Entire home/apt</td>\n",
              "      <td>Entire home/apt</td>\n",
              "      <td>Entire home/apt</td>\n",
              "    </tr>\n",
              "    <tr>\n",
              "      <th>accommodates</th>\n",
              "      <td>8</td>\n",
              "      <td>4</td>\n",
              "      <td>2</td>\n",
              "      <td>4</td>\n",
              "      <td>4</td>\n",
              "    </tr>\n",
              "    <tr>\n",
              "      <th>bathrooms_text</th>\n",
              "      <td>2 baths</td>\n",
              "      <td>1 bath</td>\n",
              "      <td>1 bath</td>\n",
              "      <td>1 bath</td>\n",
              "      <td>1 bath</td>\n",
              "    </tr>\n",
              "    <tr>\n",
              "      <th>beds</th>\n",
              "      <td>5.0</td>\n",
              "      <td>1.0</td>\n",
              "      <td>1.0</td>\n",
              "      <td>2.0</td>\n",
              "      <td>1.0</td>\n",
              "    </tr>\n",
              "    <tr>\n",
              "      <th>amenities</th>\n",
              "      <td>[\"Kitchen\", \"Free street parking\", \"Crib\", \"Pa...</td>\n",
              "      <td>[\"Kitchen\", \"Luggage dropoff allowed\", \"Free s...</td>\n",
              "      <td>[\"Kitchen\", \"Free street parking\", \"Patio or b...</td>\n",
              "      <td>[\"Kitchen\", \"Free street parking\", \"Patio or b...</td>\n",
              "      <td>[\"Kitchen\", \"Free street parking\", \"Crib\", \"Pa...</td>\n",
              "    </tr>\n",
              "    <tr>\n",
              "      <th>price</th>\n",
              "      <td>79</td>\n",
              "      <td>50</td>\n",
              "      <td>38</td>\n",
              "      <td>48</td>\n",
              "      <td>47</td>\n",
              "    </tr>\n",
              "    <tr>\n",
              "      <th>minimum_nights</th>\n",
              "      <td>1</td>\n",
              "      <td>1</td>\n",
              "      <td>1</td>\n",
              "      <td>1</td>\n",
              "      <td>1</td>\n",
              "    </tr>\n",
              "    <tr>\n",
              "      <th>maximum_nights</th>\n",
              "      <td>1125</td>\n",
              "      <td>1125</td>\n",
              "      <td>1125</td>\n",
              "      <td>1125</td>\n",
              "      <td>1125</td>\n",
              "    </tr>\n",
              "    <tr>\n",
              "      <th>has_availability</th>\n",
              "      <td>t</td>\n",
              "      <td>t</td>\n",
              "      <td>t</td>\n",
              "      <td>t</td>\n",
              "      <td>t</td>\n",
              "    </tr>\n",
              "    <tr>\n",
              "      <th>availability_30</th>\n",
              "      <td>19</td>\n",
              "      <td>26</td>\n",
              "      <td>15</td>\n",
              "      <td>22</td>\n",
              "      <td>0</td>\n",
              "    </tr>\n",
              "    <tr>\n",
              "      <th>availability_60</th>\n",
              "      <td>49</td>\n",
              "      <td>56</td>\n",
              "      <td>26</td>\n",
              "      <td>52</td>\n",
              "      <td>27</td>\n",
              "    </tr>\n",
              "    <tr>\n",
              "      <th>availability_90</th>\n",
              "      <td>79</td>\n",
              "      <td>86</td>\n",
              "      <td>56</td>\n",
              "      <td>82</td>\n",
              "      <td>57</td>\n",
              "    </tr>\n",
              "    <tr>\n",
              "      <th>availability_365</th>\n",
              "      <td>170</td>\n",
              "      <td>361</td>\n",
              "      <td>331</td>\n",
              "      <td>357</td>\n",
              "      <td>208</td>\n",
              "    </tr>\n",
              "    <tr>\n",
              "      <th>number_of_reviews</th>\n",
              "      <td>32</td>\n",
              "      <td>52</td>\n",
              "      <td>71</td>\n",
              "      <td>24</td>\n",
              "      <td>17</td>\n",
              "    </tr>\n",
              "    <tr>\n",
              "      <th>number_of_reviews_ltm</th>\n",
              "      <td>7</td>\n",
              "      <td>12</td>\n",
              "      <td>19</td>\n",
              "      <td>1</td>\n",
              "      <td>0</td>\n",
              "    </tr>\n",
              "    <tr>\n",
              "      <th>number_of_reviews_l30d</th>\n",
              "      <td>0</td>\n",
              "      <td>1</td>\n",
              "      <td>3</td>\n",
              "      <td>0</td>\n",
              "      <td>0</td>\n",
              "    </tr>\n",
              "    <tr>\n",
              "      <th>license</th>\n",
              "      <td>00000957568</td>\n",
              "      <td>00001070920</td>\n",
              "      <td>00000957080</td>\n",
              "      <td>00000957422</td>\n",
              "      <td>00000957579</td>\n",
              "    </tr>\n",
              "    <tr>\n",
              "      <th>instant_bookable</th>\n",
              "      <td>t</td>\n",
              "      <td>t</td>\n",
              "      <td>t</td>\n",
              "      <td>t</td>\n",
              "      <td>t</td>\n",
              "    </tr>\n",
              "    <tr>\n",
              "      <th>reviews_per_month</th>\n",
              "      <td>0.41</td>\n",
              "      <td>0.72</td>\n",
              "      <td>0.97</td>\n",
              "      <td>0.33</td>\n",
              "      <td>0.23</td>\n",
              "    </tr>\n",
              "  </tbody>\n",
              "</table>\n",
              "</div>\n",
              "      <button class=\"colab-df-convert\" onclick=\"convertToInteractive('df-7cd7873f-1d43-4fae-8aa2-219d65c53a1a')\"\n",
              "              title=\"Convert this dataframe to an interactive table.\"\n",
              "              style=\"display:none;\">\n",
              "        \n",
              "  <svg xmlns=\"http://www.w3.org/2000/svg\" height=\"24px\"viewBox=\"0 0 24 24\"\n",
              "       width=\"24px\">\n",
              "    <path d=\"M0 0h24v24H0V0z\" fill=\"none\"/>\n",
              "    <path d=\"M18.56 5.44l.94 2.06.94-2.06 2.06-.94-2.06-.94-.94-2.06-.94 2.06-2.06.94zm-11 1L8.5 8.5l.94-2.06 2.06-.94-2.06-.94L8.5 2.5l-.94 2.06-2.06.94zm10 10l.94 2.06.94-2.06 2.06-.94-2.06-.94-.94-2.06-.94 2.06-2.06.94z\"/><path d=\"M17.41 7.96l-1.37-1.37c-.4-.4-.92-.59-1.43-.59-.52 0-1.04.2-1.43.59L10.3 9.45l-7.72 7.72c-.78.78-.78 2.05 0 2.83L4 21.41c.39.39.9.59 1.41.59.51 0 1.02-.2 1.41-.59l7.78-7.78 2.81-2.81c.8-.78.8-2.07 0-2.86zM5.41 20L4 18.59l7.72-7.72 1.47 1.35L5.41 20z\"/>\n",
              "  </svg>\n",
              "      </button>\n",
              "      \n",
              "  <style>\n",
              "    .colab-df-container {\n",
              "      display:flex;\n",
              "      flex-wrap:wrap;\n",
              "      gap: 12px;\n",
              "    }\n",
              "\n",
              "    .colab-df-convert {\n",
              "      background-color: #E8F0FE;\n",
              "      border: none;\n",
              "      border-radius: 50%;\n",
              "      cursor: pointer;\n",
              "      display: none;\n",
              "      fill: #1967D2;\n",
              "      height: 32px;\n",
              "      padding: 0 0 0 0;\n",
              "      width: 32px;\n",
              "    }\n",
              "\n",
              "    .colab-df-convert:hover {\n",
              "      background-color: #E2EBFA;\n",
              "      box-shadow: 0px 1px 2px rgba(60, 64, 67, 0.3), 0px 1px 3px 1px rgba(60, 64, 67, 0.15);\n",
              "      fill: #174EA6;\n",
              "    }\n",
              "\n",
              "    [theme=dark] .colab-df-convert {\n",
              "      background-color: #3B4455;\n",
              "      fill: #D2E3FC;\n",
              "    }\n",
              "\n",
              "    [theme=dark] .colab-df-convert:hover {\n",
              "      background-color: #434B5C;\n",
              "      box-shadow: 0px 1px 3px 1px rgba(0, 0, 0, 0.15);\n",
              "      filter: drop-shadow(0px 1px 2px rgba(0, 0, 0, 0.3));\n",
              "      fill: #FFFFFF;\n",
              "    }\n",
              "  </style>\n",
              "\n",
              "      <script>\n",
              "        const buttonEl =\n",
              "          document.querySelector('#df-7cd7873f-1d43-4fae-8aa2-219d65c53a1a button.colab-df-convert');\n",
              "        buttonEl.style.display =\n",
              "          google.colab.kernel.accessAllowed ? 'block' : 'none';\n",
              "\n",
              "        async function convertToInteractive(key) {\n",
              "          const element = document.querySelector('#df-7cd7873f-1d43-4fae-8aa2-219d65c53a1a');\n",
              "          const dataTable =\n",
              "            await google.colab.kernel.invokeFunction('convertToInteractive',\n",
              "                                                     [key], {});\n",
              "          if (!dataTable) return;\n",
              "\n",
              "          const docLinkHtml = 'Like what you see? Visit the ' +\n",
              "            '<a target=\"_blank\" href=https://colab.research.google.com/notebooks/data_table.ipynb>data table notebook</a>'\n",
              "            + ' to learn more about interactive tables.';\n",
              "          element.innerHTML = '';\n",
              "          dataTable['output_type'] = 'display_data';\n",
              "          await google.colab.output.renderOutput(dataTable, element);\n",
              "          const docLink = document.createElement('div');\n",
              "          docLink.innerHTML = docLinkHtml;\n",
              "          element.appendChild(docLink);\n",
              "        }\n",
              "      </script>\n",
              "    </div>\n",
              "  </div>\n",
              "  "
            ]
          },
          "metadata": {},
          "execution_count": 15
        }
      ]
    },
    {
      "cell_type": "code",
      "source": [
        "df.isna().sum()"
      ],
      "metadata": {
        "colab": {
          "base_uri": "https://localhost:8080/"
        },
        "id": "ExfQmg-tb84b",
        "outputId": "e4171530-d069-48fe-c966-711f008748db"
      },
      "execution_count": 16,
      "outputs": [
        {
          "output_type": "execute_result",
          "data": {
            "text/plain": [
              "host_since                   3\n",
              "host_is_superhost            3\n",
              "host_listings_count          3\n",
              "host_identity_verified       3\n",
              "neighbourhood_cleansed       0\n",
              "latitude                     0\n",
              "longitude                    0\n",
              "property_type                0\n",
              "room_type                    0\n",
              "accommodates                 0\n",
              "bathrooms_text              10\n",
              "beds                        68\n",
              "amenities                    0\n",
              "price                        0\n",
              "minimum_nights               0\n",
              "maximum_nights               0\n",
              "has_availability             0\n",
              "availability_30              0\n",
              "availability_60              0\n",
              "availability_90              0\n",
              "availability_365             0\n",
              "number_of_reviews            0\n",
              "number_of_reviews_ltm        0\n",
              "number_of_reviews_l30d       0\n",
              "license                   1922\n",
              "instant_bookable             0\n",
              "reviews_per_month         1708\n",
              "dtype: int64"
            ]
          },
          "metadata": {},
          "execution_count": 16
        }
      ]
    },
    {
      "cell_type": "code",
      "source": [
        "fig, ax = plt.subplots()\n",
        "ax.scatter(df['host_since'][:1000], df['price'][:1000])"
      ],
      "metadata": {
        "colab": {
          "base_uri": "https://localhost:8080/",
          "height": 283
        },
        "id": "T6_8qn0Ax23A",
        "outputId": "cf57c99e-4692-41ee-a2a8-7e10a56c1bdd"
      },
      "execution_count": 17,
      "outputs": [
        {
          "output_type": "execute_result",
          "data": {
            "text/plain": [
              "<matplotlib.collections.PathCollection at 0x7f652ef521d0>"
            ]
          },
          "metadata": {},
          "execution_count": 17
        },
        {
          "output_type": "display_data",
          "data": {
            "text/plain": [
              "<Figure size 432x288 with 1 Axes>"
            ],
            "image/png": "[encoded data removed]"
          },
          "metadata": {
            "needs_background": "light"
          }
        }
      ]
    },
    {
      "cell_type": "code",
      "source": [
        "df.price.plot.hist()"
      ],
      "metadata": {
        "colab": {
          "base_uri": "https://localhost:8080/",
          "height": 287
        },
        "id": "tVDDamJT02RA",
        "outputId": "42ab00c5-9651-4428-c325-9d28cdbdbac6"
      },
      "execution_count": 18,
      "outputs": [
        {
          "output_type": "execute_result",
          "data": {
            "text/plain": [
              "<matplotlib.axes._subplots.AxesSubplot at 0x7f652f056e90>"
            ]
          },
          "metadata": {},
          "execution_count": 18
        },
        {
          "output_type": "display_data",
          "data": {
            "text/plain": [
              "<Figure size 432x288 with 1 Axes>"
            ],
            "image/png": "[encoded data removed]"
          },
          "metadata": {
            "needs_background": "light"
          }
        }
      ]
    },
    {
      "cell_type": "code",
      "source": [
        "# sort df by host_since\n",
        "df.sort_values(by=['host_since'], inplace=True, ascending=True)\n",
        "df.host_since.head(10)"
      ],
      "metadata": {
        "colab": {
          "base_uri": "https://localhost:8080/"
        },
        "id": "u4YlsIG_0g8V",
        "outputId": "8deeae29-0bfd-41c0-910a-3542f949703b"
      },
      "execution_count": 19,
      "outputs": [
        {
          "output_type": "execute_result",
          "data": {
            "text/plain": [
              "0      2009-09-08\n",
              "1      2009-09-08\n",
              "2      2009-09-08\n",
              "3      2009-09-08\n",
              "4      2009-09-08\n",
              "202    2009-09-08\n",
              "156    2010-01-15\n",
              "2540   2010-04-02\n",
              "97     2010-05-09\n",
              "5      2010-05-09\n",
              "Name: host_since, dtype: datetime64[ns]"
            ]
          },
          "metadata": {},
          "execution_count": 19
        }
      ]
    },
    {
      "cell_type": "code",
      "source": [
        "# make a copy \n",
        "df_tmp = df.copy()"
      ],
      "metadata": {
        "id": "g-qI3qrT15OJ"
      },
      "execution_count": 20,
      "outputs": []
    },
    {
      "cell_type": "code",
      "source": [
        "# add datetime parameters for host_since column\n",
        "df_tmp['hostYear'] = df_tmp.host_since.dt.year\n",
        "df_tmp['hostMonth'] = df_tmp.host_since.dt.month\n",
        "df_tmp['hostDay'] = df_tmp.host_since.dt.day\n",
        "df_tmp['hostDayOfWeek'] = df_tmp.host_since.dt.dayofweek\n",
        "df_tmp['hostDayOfYear'] = df_tmp.host_since.dt.dayofyear"
      ],
      "metadata": {
        "id": "2j4zPlPJ_Fxs"
      },
      "execution_count": 21,
      "outputs": []
    },
    {
      "cell_type": "code",
      "source": [
        "df_tmp.drop(\"host_since\", axis=1, inplace=True)"
      ],
      "metadata": {
        "id": "5e6SsBi3B68V"
      },
      "execution_count": 22,
      "outputs": []
    },
    {
      "cell_type": "code",
      "source": [
        "df_tmp.head().T"
      ],
      "metadata": {
        "colab": {
          "base_uri": "https://localhost:8080/",
          "height": 1000
        },
        "id": "l537i1D6DiUc",
        "outputId": "c8c78354-b97c-4746-8af7-99f1d1eb113a"
      },
      "execution_count": 23,
      "outputs": [
        {
          "output_type": "execute_result",
          "data": {
            "text/plain": [
              "                                                                        0  \\\n",
              "host_is_superhost                                                       t   \n",
              "host_listings_count                                                   6.0   \n",
              "host_identity_verified                                                  t   \n",
              "neighbourhood_cleansed                                        ΑΜΠΕΛΟΚΗΠΟΙ   \n",
              "latitude                                                         37.98863   \n",
              "longitude                                                        23.76527   \n",
              "property_type                                          Entire rental unit   \n",
              "room_type                                                 Entire home/apt   \n",
              "accommodates                                                            8   \n",
              "bathrooms_text                                                    2 baths   \n",
              "beds                                                                  5.0   \n",
              "amenities               [\"Kitchen\", \"Free street parking\", \"Crib\", \"Pa...   \n",
              "price                                                                  79   \n",
              "minimum_nights                                                          1   \n",
              "maximum_nights                                                       1125   \n",
              "has_availability                                                        t   \n",
              "availability_30                                                        19   \n",
              "availability_60                                                        49   \n",
              "availability_90                                                        79   \n",
              "availability_365                                                      170   \n",
              "number_of_reviews                                                      32   \n",
              "number_of_reviews_ltm                                                   7   \n",
              "number_of_reviews_l30d                                                  0   \n",
              "license                                                       00000957568   \n",
              "instant_bookable                                                        t   \n",
              "reviews_per_month                                                    0.41   \n",
              "hostYear                                                           2009.0   \n",
              "hostMonth                                                             9.0   \n",
              "hostDay                                                               8.0   \n",
              "hostDayOfWeek                                                         1.0   \n",
              "hostDayOfYear                                                       251.0   \n",
              "\n",
              "                                                                        1  \\\n",
              "host_is_superhost                                                       t   \n",
              "host_listings_count                                                   6.0   \n",
              "host_identity_verified                                                  t   \n",
              "neighbourhood_cleansed                                        ΑΜΠΕΛΟΚΗΠΟΙ   \n",
              "latitude                                                         37.98903   \n",
              "longitude                                                        23.76448   \n",
              "property_type                                          Entire rental unit   \n",
              "room_type                                                 Entire home/apt   \n",
              "accommodates                                                            4   \n",
              "bathrooms_text                                                     1 bath   \n",
              "beds                                                                  1.0   \n",
              "amenities               [\"Kitchen\", \"Luggage dropoff allowed\", \"Free s...   \n",
              "price                                                                  50   \n",
              "minimum_nights                                                          1   \n",
              "maximum_nights                                                       1125   \n",
              "has_availability                                                        t   \n",
              "availability_30                                                        26   \n",
              "availability_60                                                        56   \n",
              "availability_90                                                        86   \n",
              "availability_365                                                      361   \n",
              "number_of_reviews                                                      52   \n",
              "number_of_reviews_ltm                                                  12   \n",
              "number_of_reviews_l30d                                                  1   \n",
              "license                                                       00001070920   \n",
              "instant_bookable                                                        t   \n",
              "reviews_per_month                                                    0.72   \n",
              "hostYear                                                           2009.0   \n",
              "hostMonth                                                             9.0   \n",
              "hostDay                                                               8.0   \n",
              "hostDayOfWeek                                                         1.0   \n",
              "hostDayOfYear                                                       251.0   \n",
              "\n",
              "                                                                        2  \\\n",
              "host_is_superhost                                                       t   \n",
              "host_listings_count                                                   6.0   \n",
              "host_identity_verified                                                  t   \n",
              "neighbourhood_cleansed                                        ΑΜΠΕΛΟΚΗΠΟΙ   \n",
              "latitude                                                         37.98888   \n",
              "longitude                                                        23.76473   \n",
              "property_type                                          Entire rental unit   \n",
              "room_type                                                 Entire home/apt   \n",
              "accommodates                                                            2   \n",
              "bathrooms_text                                                     1 bath   \n",
              "beds                                                                  1.0   \n",
              "amenities               [\"Kitchen\", \"Free street parking\", \"Patio or b...   \n",
              "price                                                                  38   \n",
              "minimum_nights                                                          1   \n",
              "maximum_nights                                                       1125   \n",
              "has_availability                                                        t   \n",
              "availability_30                                                        15   \n",
              "availability_60                                                        26   \n",
              "availability_90                                                        56   \n",
              "availability_365                                                      331   \n",
              "number_of_reviews                                                      71   \n",
              "number_of_reviews_ltm                                                  19   \n",
              "number_of_reviews_l30d                                                  3   \n",
              "license                                                       00000957080   \n",
              "instant_bookable                                                        t   \n",
              "reviews_per_month                                                    0.97   \n",
              "hostYear                                                           2009.0   \n",
              "hostMonth                                                             9.0   \n",
              "hostDay                                                               8.0   \n",
              "hostDayOfWeek                                                         1.0   \n",
              "hostDayOfYear                                                       251.0   \n",
              "\n",
              "                                                                        3  \\\n",
              "host_is_superhost                                                       t   \n",
              "host_listings_count                                                   6.0   \n",
              "host_identity_verified                                                  t   \n",
              "neighbourhood_cleansed                                        ΑΜΠΕΛΟΚΗΠΟΙ   \n",
              "latitude                                                         37.98903   \n",
              "longitude                                                        23.76448   \n",
              "property_type                                          Entire rental unit   \n",
              "room_type                                                 Entire home/apt   \n",
              "accommodates                                                            4   \n",
              "bathrooms_text                                                     1 bath   \n",
              "beds                                                                  2.0   \n",
              "amenities               [\"Kitchen\", \"Free street parking\", \"Patio or b...   \n",
              "price                                                                  48   \n",
              "minimum_nights                                                          1   \n",
              "maximum_nights                                                       1125   \n",
              "has_availability                                                        t   \n",
              "availability_30                                                        22   \n",
              "availability_60                                                        52   \n",
              "availability_90                                                        82   \n",
              "availability_365                                                      357   \n",
              "number_of_reviews                                                      24   \n",
              "number_of_reviews_ltm                                                   1   \n",
              "number_of_reviews_l30d                                                  0   \n",
              "license                                                       00000957422   \n",
              "instant_bookable                                                        t   \n",
              "reviews_per_month                                                    0.33   \n",
              "hostYear                                                           2009.0   \n",
              "hostMonth                                                             9.0   \n",
              "hostDay                                                               8.0   \n",
              "hostDayOfWeek                                                         1.0   \n",
              "hostDayOfYear                                                       251.0   \n",
              "\n",
              "                                                                        4  \n",
              "host_is_superhost                                                       t  \n",
              "host_listings_count                                                   6.0  \n",
              "host_identity_verified                                                  t  \n",
              "neighbourhood_cleansed                                        ΑΜΠΕΛΟΚΗΠΟΙ  \n",
              "latitude                                                         37.98924  \n",
              "longitude                                                          23.765  \n",
              "property_type                                          Entire rental unit  \n",
              "room_type                                                 Entire home/apt  \n",
              "accommodates                                                            4  \n",
              "bathrooms_text                                                     1 bath  \n",
              "beds                                                                  1.0  \n",
              "amenities               [\"Kitchen\", \"Free street parking\", \"Crib\", \"Pa...  \n",
              "price                                                                  47  \n",
              "minimum_nights                                                          1  \n",
              "maximum_nights                                                       1125  \n",
              "has_availability                                                        t  \n",
              "availability_30                                                         0  \n",
              "availability_60                                                        27  \n",
              "availability_90                                                        57  \n",
              "availability_365                                                      208  \n",
              "number_of_reviews                                                      17  \n",
              "number_of_reviews_ltm                                                   0  \n",
              "number_of_reviews_l30d                                                  0  \n",
              "license                                                       00000957579  \n",
              "instant_bookable                                                        t  \n",
              "reviews_per_month                                                    0.23  \n",
              "hostYear                                                           2009.0  \n",
              "hostMonth                                                             9.0  \n",
              "hostDay                                                               8.0  \n",
              "hostDayOfWeek                                                         1.0  \n",
              "hostDayOfYear                                                       251.0  "
            ],
            "text/html": [
              "\n",
              "  <div id=\"df-4afac243-747e-404e-a976-9cab5c62cf54\">\n",
              "    <div class=\"colab-df-container\">\n",
              "      <div>\n",
              "<style scoped>\n",
              "    .dataframe tbody tr th:only-of-type {\n",
              "        vertical-align: middle;\n",
              "    }\n",
              "\n",
              "    .dataframe tbody tr th {\n",
              "        vertical-align: top;\n",
              "    }\n",
              "\n",
              "    .dataframe thead th {\n",
              "        text-align: right;\n",
              "    }\n",
              "</style>\n",
              "<table border=\"1\" class=\"dataframe\">\n",
              "  <thead>\n",
              "    <tr style=\"text-align: right;\">\n",
              "      <th></th>\n",
              "      <th>0</th>\n",
              "      <th>1</th>\n",
              "      <th>2</th>\n",
              "      <th>3</th>\n",
              "      <th>4</th>\n",
              "    </tr>\n",
              "  </thead>\n",
              "  <tbody>\n",
              "    <tr>\n",
              "      <th>host_is_superhost</th>\n",
              "      <td>t</td>\n",
              "      <td>t</td>\n",
              "      <td>t</td>\n",
              "      <td>t</td>\n",
              "      <td>t</td>\n",
              "    </tr>\n",
              "    <tr>\n",
              "      <th>host_listings_count</th>\n",
              "      <td>6.0</td>\n",
              "      <td>6.0</td>\n",
              "      <td>6.0</td>\n",
              "      <td>6.0</td>\n",
              "      <td>6.0</td>\n",
              "    </tr>\n",
              "    <tr>\n",
              "      <th>host_identity_verified</th>\n",
              "      <td>t</td>\n",
              "      <td>t</td>\n",
              "      <td>t</td>\n",
              "      <td>t</td>\n",
              "      <td>t</td>\n",
              "    </tr>\n",
              "    <tr>\n",
              "      <th>neighbourhood_cleansed</th>\n",
              "      <td>ΑΜΠΕΛΟΚΗΠΟΙ</td>\n",
              "      <td>ΑΜΠΕΛΟΚΗΠΟΙ</td>\n",
              "      <td>ΑΜΠΕΛΟΚΗΠΟΙ</td>\n",
              "      <td>ΑΜΠΕΛΟΚΗΠΟΙ</td>\n",
              "      <td>ΑΜΠΕΛΟΚΗΠΟΙ</td>\n",
              "    </tr>\n",
              "    <tr>\n",
              "      <th>latitude</th>\n",
              "      <td>37.98863</td>\n",
              "      <td>37.98903</td>\n",
              "      <td>37.98888</td>\n",
              "      <td>37.98903</td>\n",
              "      <td>37.98924</td>\n",
              "    </tr>\n",
              "    <tr>\n",
              "      <th>longitude</th>\n",
              "      <td>23.76527</td>\n",
              "      <td>23.76448</td>\n",
              "      <td>23.76473</td>\n",
              "      <td>23.76448</td>\n",
              "      <td>23.765</td>\n",
              "    </tr>\n",
              "    <tr>\n",
              "      <th>property_type</th>\n",
              "      <td>Entire rental unit</td>\n",
              "      <td>Entire rental unit</td>\n",
              "      <td>Entire rental unit</td>\n",
              "      <td>Entire rental unit</td>\n",
              "      <td>Entire rental unit</td>\n",
              "    </tr>\n",
              "    <tr>\n",
              "      <th>room_type</th>\n",
              "      <td>Entire home/apt</td>\n",
              "      <td>Entire home/apt</td>\n",
              "      <td>Entire home/apt</td>\n",
              "      <td>Entire home/apt</td>\n",
              "      <td>Entire home/apt</td>\n",
              "    </tr>\n",
              "    <tr>\n",
              "      <th>accommodates</th>\n",
              "      <td>8</td>\n",
              "      <td>4</td>\n",
              "      <td>2</td>\n",
              "      <td>4</td>\n",
              "      <td>4</td>\n",
              "    </tr>\n",
              "    <tr>\n",
              "      <th>bathrooms_text</th>\n",
              "      <td>2 baths</td>\n",
              "      <td>1 bath</td>\n",
              "      <td>1 bath</td>\n",
              "      <td>1 bath</td>\n",
              "      <td>1 bath</td>\n",
              "    </tr>\n",
              "    <tr>\n",
              "      <th>beds</th>\n",
              "      <td>5.0</td>\n",
              "      <td>1.0</td>\n",
              "      <td>1.0</td>\n",
              "      <td>2.0</td>\n",
              "      <td>1.0</td>\n",
              "    </tr>\n",
              "    <tr>\n",
              "      <th>amenities</th>\n",
              "      <td>[\"Kitchen\", \"Free street parking\", \"Crib\", \"Pa...</td>\n",
              "      <td>[\"Kitchen\", \"Luggage dropoff allowed\", \"Free s...</td>\n",
              "      <td>[\"Kitchen\", \"Free street parking\", \"Patio or b...</td>\n",
              "      <td>[\"Kitchen\", \"Free street parking\", \"Patio or b...</td>\n",
              "      <td>[\"Kitchen\", \"Free street parking\", \"Crib\", \"Pa...</td>\n",
              "    </tr>\n",
              "    <tr>\n",
              "      <th>price</th>\n",
              "      <td>79</td>\n",
              "      <td>50</td>\n",
              "      <td>38</td>\n",
              "      <td>48</td>\n",
              "      <td>47</td>\n",
              "    </tr>\n",
              "    <tr>\n",
              "      <th>minimum_nights</th>\n",
              "      <td>1</td>\n",
              "      <td>1</td>\n",
              "      <td>1</td>\n",
              "      <td>1</td>\n",
              "      <td>1</td>\n",
              "    </tr>\n",
              "    <tr>\n",
              "      <th>maximum_nights</th>\n",
              "      <td>1125</td>\n",
              "      <td>1125</td>\n",
              "      <td>1125</td>\n",
              "      <td>1125</td>\n",
              "      <td>1125</td>\n",
              "    </tr>\n",
              "    <tr>\n",
              "      <th>has_availability</th>\n",
              "      <td>t</td>\n",
              "      <td>t</td>\n",
              "      <td>t</td>\n",
              "      <td>t</td>\n",
              "      <td>t</td>\n",
              "    </tr>\n",
              "    <tr>\n",
              "      <th>availability_30</th>\n",
              "      <td>19</td>\n",
              "      <td>26</td>\n",
              "      <td>15</td>\n",
              "      <td>22</td>\n",
              "      <td>0</td>\n",
              "    </tr>\n",
              "    <tr>\n",
              "      <th>availability_60</th>\n",
              "      <td>49</td>\n",
              "      <td>56</td>\n",
              "      <td>26</td>\n",
              "      <td>52</td>\n",
              "      <td>27</td>\n",
              "    </tr>\n",
              "    <tr>\n",
              "      <th>availability_90</th>\n",
              "      <td>79</td>\n",
              "      <td>86</td>\n",
              "      <td>56</td>\n",
              "      <td>82</td>\n",
              "      <td>57</td>\n",
              "    </tr>\n",
              "    <tr>\n",
              "      <th>availability_365</th>\n",
              "      <td>170</td>\n",
              "      <td>361</td>\n",
              "      <td>331</td>\n",
              "      <td>357</td>\n",
              "      <td>208</td>\n",
              "    </tr>\n",
              "    <tr>\n",
              "      <th>number_of_reviews</th>\n",
              "      <td>32</td>\n",
              "      <td>52</td>\n",
              "      <td>71</td>\n",
              "      <td>24</td>\n",
              "      <td>17</td>\n",
              "    </tr>\n",
              "    <tr>\n",
              "      <th>number_of_reviews_ltm</th>\n",
              "      <td>7</td>\n",
              "      <td>12</td>\n",
              "      <td>19</td>\n",
              "      <td>1</td>\n",
              "      <td>0</td>\n",
              "    </tr>\n",
              "    <tr>\n",
              "      <th>number_of_reviews_l30d</th>\n",
              "      <td>0</td>\n",
              "      <td>1</td>\n",
              "      <td>3</td>\n",
              "      <td>0</td>\n",
              "      <td>0</td>\n",
              "    </tr>\n",
              "    <tr>\n",
              "      <th>license</th>\n",
              "      <td>00000957568</td>\n",
              "      <td>00001070920</td>\n",
              "      <td>00000957080</td>\n",
              "      <td>00000957422</td>\n",
              "      <td>00000957579</td>\n",
              "    </tr>\n",
              "    <tr>\n",
              "      <th>instant_bookable</th>\n",
              "      <td>t</td>\n",
              "      <td>t</td>\n",
              "      <td>t</td>\n",
              "      <td>t</td>\n",
              "      <td>t</td>\n",
              "    </tr>\n",
              "    <tr>\n",
              "      <th>reviews_per_month</th>\n",
              "      <td>0.41</td>\n",
              "      <td>0.72</td>\n",
              "      <td>0.97</td>\n",
              "      <td>0.33</td>\n",
              "      <td>0.23</td>\n",
              "    </tr>\n",
              "    <tr>\n",
              "      <th>hostYear</th>\n",
              "      <td>2009.0</td>\n",
              "      <td>2009.0</td>\n",
              "      <td>2009.0</td>\n",
              "      <td>2009.0</td>\n",
              "      <td>2009.0</td>\n",
              "    </tr>\n",
              "    <tr>\n",
              "      <th>hostMonth</th>\n",
              "      <td>9.0</td>\n",
              "      <td>9.0</td>\n",
              "      <td>9.0</td>\n",
              "      <td>9.0</td>\n",
              "      <td>9.0</td>\n",
              "    </tr>\n",
              "    <tr>\n",
              "      <th>hostDay</th>\n",
              "      <td>8.0</td>\n",
              "      <td>8.0</td>\n",
              "      <td>8.0</td>\n",
              "      <td>8.0</td>\n",
              "      <td>8.0</td>\n",
              "    </tr>\n",
              "    <tr>\n",
              "      <th>hostDayOfWeek</th>\n",
              "      <td>1.0</td>\n",
              "      <td>1.0</td>\n",
              "      <td>1.0</td>\n",
              "      <td>1.0</td>\n",
              "      <td>1.0</td>\n",
              "    </tr>\n",
              "    <tr>\n",
              "      <th>hostDayOfYear</th>\n",
              "      <td>251.0</td>\n",
              "      <td>251.0</td>\n",
              "      <td>251.0</td>\n",
              "      <td>251.0</td>\n",
              "      <td>251.0</td>\n",
              "    </tr>\n",
              "  </tbody>\n",
              "</table>\n",
              "</div>\n",
              "      <button class=\"colab-df-convert\" onclick=\"convertToInteractive('df-4afac243-747e-404e-a976-9cab5c62cf54')\"\n",
              "              title=\"Convert this dataframe to an interactive table.\"\n",
              "              style=\"display:none;\">\n",
              "        \n",
              "  <svg xmlns=\"http://www.w3.org/2000/svg\" height=\"24px\"viewBox=\"0 0 24 24\"\n",
              "       width=\"24px\">\n",
              "    <path d=\"M0 0h24v24H0V0z\" fill=\"none\"/>\n",
              "    <path d=\"M18.56 5.44l.94 2.06.94-2.06 2.06-.94-2.06-.94-.94-2.06-.94 2.06-2.06.94zm-11 1L8.5 8.5l.94-2.06 2.06-.94-2.06-.94L8.5 2.5l-.94 2.06-2.06.94zm10 10l.94 2.06.94-2.06 2.06-.94-2.06-.94-.94-2.06-.94 2.06-2.06.94z\"/><path d=\"M17.41 7.96l-1.37-1.37c-.4-.4-.92-.59-1.43-.59-.52 0-1.04.2-1.43.59L10.3 9.45l-7.72 7.72c-.78.78-.78 2.05 0 2.83L4 21.41c.39.39.9.59 1.41.59.51 0 1.02-.2 1.41-.59l7.78-7.78 2.81-2.81c.8-.78.8-2.07 0-2.86zM5.41 20L4 18.59l7.72-7.72 1.47 1.35L5.41 20z\"/>\n",
              "  </svg>\n",
              "      </button>\n",
              "      \n",
              "  <style>\n",
              "    .colab-df-container {\n",
              "      display:flex;\n",
              "      flex-wrap:wrap;\n",
              "      gap: 12px;\n",
              "    }\n",
              "\n",
              "    .colab-df-convert {\n",
              "      background-color: #E8F0FE;\n",
              "      border: none;\n",
              "      border-radius: 50%;\n",
              "      cursor: pointer;\n",
              "      display: none;\n",
              "      fill: #1967D2;\n",
              "      height: 32px;\n",
              "      padding: 0 0 0 0;\n",
              "      width: 32px;\n",
              "    }\n",
              "\n",
              "    .colab-df-convert:hover {\n",
              "      background-color: #E2EBFA;\n",
              "      box-shadow: 0px 1px 2px rgba(60, 64, 67, 0.3), 0px 1px 3px 1px rgba(60, 64, 67, 0.15);\n",
              "      fill: #174EA6;\n",
              "    }\n",
              "\n",
              "    [theme=dark] .colab-df-convert {\n",
              "      background-color: #3B4455;\n",
              "      fill: #D2E3FC;\n",
              "    }\n",
              "\n",
              "    [theme=dark] .colab-df-convert:hover {\n",
              "      background-color: #434B5C;\n",
              "      box-shadow: 0px 1px 3px 1px rgba(0, 0, 0, 0.15);\n",
              "      filter: drop-shadow(0px 1px 2px rgba(0, 0, 0, 0.3));\n",
              "      fill: #FFFFFF;\n",
              "    }\n",
              "  </style>\n",
              "\n",
              "      <script>\n",
              "        const buttonEl =\n",
              "          document.querySelector('#df-4afac243-747e-404e-a976-9cab5c62cf54 button.colab-df-convert');\n",
              "        buttonEl.style.display =\n",
              "          google.colab.kernel.accessAllowed ? 'block' : 'none';\n",
              "\n",
              "        async function convertToInteractive(key) {\n",
              "          const element = document.querySelector('#df-4afac243-747e-404e-a976-9cab5c62cf54');\n",
              "          const dataTable =\n",
              "            await google.colab.kernel.invokeFunction('convertToInteractive',\n",
              "                                                     [key], {});\n",
              "          if (!dataTable) return;\n",
              "\n",
              "          const docLinkHtml = 'Like what you see? Visit the ' +\n",
              "            '<a target=\"_blank\" href=https://colab.research.google.com/notebooks/data_table.ipynb>data table notebook</a>'\n",
              "            + ' to learn more about interactive tables.';\n",
              "          element.innerHTML = '';\n",
              "          dataTable['output_type'] = 'display_data';\n",
              "          await google.colab.output.renderOutput(dataTable, element);\n",
              "          const docLink = document.createElement('div');\n",
              "          docLink.innerHTML = docLinkHtml;\n",
              "          element.appendChild(docLink);\n",
              "        }\n",
              "      </script>\n",
              "    </div>\n",
              "  </div>\n",
              "  "
            ]
          },
          "metadata": {},
          "execution_count": 23
        }
      ]
    },
    {
      "cell_type": "code",
      "source": [
        "df_tmp.neighbourhood_cleansed.value_counts()"
      ],
      "metadata": {
        "colab": {
          "base_uri": "https://localhost:8080/"
        },
        "id": "sxXBZoQND68N",
        "outputId": "d2afdc45-973e-4133-e9f1-a5629f08089e"
      },
      "execution_count": 24,
      "outputs": [
        {
          "output_type": "execute_result",
          "data": {
            "text/plain": [
              "ΕΜΠΟΡΙΚΟ ΤΡΙΓΩΝΟ-ΠΛΑΚΑ              1866\n",
              "ΚΟΥΚΑΚΙ-ΜΑΚΡΥΓΙΑΝΝΗ                  841\n",
              "ΝΕΟΣ ΚΟΣΜΟΣ                          713\n",
              "ΜΟΥΣΕΙΟ-ΕΞΑΡΧΕΙΑ-ΝΕΑΠΟΛΗ             699\n",
              "ΑΓΙΟΣ ΚΩΝΣΤΑΝΤΙΝΟΣ-ΠΛΑΤΕΙΑ ΒΑΘΗΣ     599\n",
              "ΠΑΓΚΡΑΤΙ                             383\n",
              "ΠΛΑΤΕΙΑ ΑΤΤΙΚΗΣ                      381\n",
              "ΚΟΛΩΝΑΚΙ                             330\n",
              "ΑΜΠΕΛΟΚΗΠΟΙ                          329\n",
              "ΑΚΡΟΠΟΛΗ                             319\n",
              "ΘΗΣΕΙΟ                               294\n",
              "ΚΕΡΑΜΕΙΚΟΣ                           244\n",
              "ΣΤΑΔΙΟ                               223\n",
              "ΠΕΤΡΑΛΩΝΑ                            214\n",
              "ΚΥΨΕΛΗ                               201\n",
              "ΙΛΙΣΙΑ                               172\n",
              "ΓΟΥΔΙ                                162\n",
              "ΖΑΠΠΕΙΟ                              141\n",
              "ΠΑΤΗΣΙΑ                              117\n",
              "ΛΥΚΑΒΗΤΤΟΣ                           117\n",
              "ΠΛΑΤΕΙΑ ΑΜΕΡΙΚΗΣ                     116\n",
              "ΝΙΡΒΑΝΑ                              105\n",
              "ΓΚΥΖΗ                                 88\n",
              "ΚΟΛΩΝΟΣ                               82\n",
              "ΣΤΑΘΜΟΣ ΛΑΡΙΣΗΣ                       79\n",
              "ΠΕΔΙΟ ΑΡΕΩΣ                           78\n",
              "ΓΚΑΖΙ                                 72\n",
              "ΑΝΩ ΚΥΨΕΛΗ                            71\n",
              "ΑΓΙΟΣ ΝΙΚΟΛΑΟΣ                        70\n",
              "ΒΟΤΑΝΙΚΟΣ                             62\n",
              "ΑΚΑΔΗΜΙΑ ΠΛΑΤΩΝΟΣ                     61\n",
              "ΑΝΩ ΠΑΤΗΣΙΑ                           58\n",
              "ΓΟΥΒΑ                                 53\n",
              "ΝΕΑ ΚΥΨΕΛΗ                            52\n",
              "ΕΛΛΗΝΟΡΩΣΩΝ                           42\n",
              "1Ο ΝΕΚΡΟΤΑΦΕΙΟ                        33\n",
              "ΣΕΠΟΛΙΑ                               28\n",
              "ΠΟΛΥΓΩΝΟ                              24\n",
              "ΑΓΙΟΣ ΕΛΕΥΘΕΡΙΟΣ                      21\n",
              "ΚΟΛΟΚΥΝΘΟΥ                            18\n",
              "ΡΙΖΟΥΠΟΛΗ                             10\n",
              "ΠΡΟΜΠΟΝΑ                               9\n",
              "ΡΗΓΙΛΛΗΣ                               3\n",
              "ΠΕΝΤΑΓΩΝΟ                              2\n",
              "Name: neighbourhood_cleansed, dtype: int64"
            ]
          },
          "metadata": {},
          "execution_count": 24
        }
      ]
    },
    {
      "cell_type": "code",
      "source": [
        "df_tmp.info()"
      ],
      "metadata": {
        "colab": {
          "base_uri": "https://localhost:8080/"
        },
        "id": "SQCSs4qZj52t",
        "outputId": "3196ea64-e181-4a95-86e8-b1cacc227267"
      },
      "execution_count": 25,
      "outputs": [
        {
          "output_type": "stream",
          "name": "stdout",
          "text": [
            "<class 'pandas.core.frame.DataFrame'>\n",
            "Int64Index: 9582 entries, 0 to 5459\n",
            "Data columns (total 31 columns):\n",
            " #   Column                  Non-Null Count  Dtype  \n",
            "---  ------                  --------------  -----  \n",
            " 0   host_is_superhost       9579 non-null   object \n",
            " 1   host_listings_count     9579 non-null   float64\n",
            " 2   host_identity_verified  9579 non-null   object \n",
            " 3   neighbourhood_cleansed  9582 non-null   object \n",
            " 4   latitude                9582 non-null   float64\n",
            " 5   longitude               9582 non-null   float64\n",
            " 6   property_type           9582 non-null   object \n",
            " 7   room_type               9582 non-null   object \n",
            " 8   accommodates            9582 non-null   int64  \n",
            " 9   bathrooms_text          9572 non-null   object \n",
            " 10  beds                    9514 non-null   float64\n",
            " 11  amenities               9582 non-null   object \n",
            " 12  price                   9582 non-null   int64  \n",
            " 13  minimum_nights          9582 non-null   int64  \n",
            " 14  maximum_nights          9582 non-null   int64  \n",
            " 15  has_availability        9582 non-null   object \n",
            " 16  availability_30         9582 non-null   int64  \n",
            " 17  availability_60         9582 non-null   int64  \n",
            " 18  availability_90         9582 non-null   int64  \n",
            " 19  availability_365        9582 non-null   int64  \n",
            " 20  number_of_reviews       9582 non-null   int64  \n",
            " 21  number_of_reviews_ltm   9582 non-null   int64  \n",
            " 22  number_of_reviews_l30d  9582 non-null   int64  \n",
            " 23  license                 7660 non-null   object \n",
            " 24  instant_bookable        9582 non-null   object \n",
            " 25  reviews_per_month       7874 non-null   float64\n",
            " 26  hostYear                9579 non-null   float64\n",
            " 27  hostMonth               9579 non-null   float64\n",
            " 28  hostDay                 9579 non-null   float64\n",
            " 29  hostDayOfWeek           9579 non-null   float64\n",
            " 30  hostDayOfYear           9579 non-null   float64\n",
            "dtypes: float64(10), int64(11), object(10)\n",
            "memory usage: 2.3+ MB\n"
          ]
        }
      ]
    },
    {
      "cell_type": "code",
      "source": [
        "for label, content in df_tmp.items():\n",
        "  if pd.api.types.is_string_dtype(content):\n",
        "    print(label)"
      ],
      "metadata": {
        "colab": {
          "base_uri": "https://localhost:8080/"
        },
        "id": "ey5E3vgRkGW7",
        "outputId": "58403e29-e0f5-41f3-8e4a-bd3b27e3731c"
      },
      "execution_count": 26,
      "outputs": [
        {
          "output_type": "stream",
          "name": "stdout",
          "text": [
            "host_is_superhost\n",
            "host_identity_verified\n",
            "neighbourhood_cleansed\n",
            "property_type\n",
            "room_type\n",
            "bathrooms_text\n",
            "amenities\n",
            "has_availability\n",
            "license\n",
            "instant_bookable\n"
          ]
        }
      ]
    },
    {
      "cell_type": "code",
      "source": [
        "# convert strings to categories\n",
        "for label, content in df_tmp.items():\n",
        "  if pd.api.types.is_string_dtype(content):\n",
        "    df_tmp[label] = content.astype(\"category\").cat.as_ordered()"
      ],
      "metadata": {
        "id": "QHLAN9p6A_YL"
      },
      "execution_count": 27,
      "outputs": []
    },
    {
      "cell_type": "code",
      "source": [
        "df_tmp.info()"
      ],
      "metadata": {
        "colab": {
          "base_uri": "https://localhost:8080/"
        },
        "id": "6nxZi3g9GX1t",
        "outputId": "0cefe128-1bfc-47d9-f645-4e2459def633"
      },
      "execution_count": 28,
      "outputs": [
        {
          "output_type": "stream",
          "name": "stdout",
          "text": [
            "<class 'pandas.core.frame.DataFrame'>\n",
            "Int64Index: 9582 entries, 0 to 5459\n",
            "Data columns (total 31 columns):\n",
            " #   Column                  Non-Null Count  Dtype   \n",
            "---  ------                  --------------  -----   \n",
            " 0   host_is_superhost       9579 non-null   category\n",
            " 1   host_listings_count     9579 non-null   float64 \n",
            " 2   host_identity_verified  9579 non-null   category\n",
            " 3   neighbourhood_cleansed  9582 non-null   category\n",
            " 4   latitude                9582 non-null   float64 \n",
            " 5   longitude               9582 non-null   float64 \n",
            " 6   property_type           9582 non-null   category\n",
            " 7   room_type               9582 non-null   category\n",
            " 8   accommodates            9582 non-null   int64   \n",
            " 9   bathrooms_text          9572 non-null   category\n",
            " 10  beds                    9514 non-null   float64 \n",
            " 11  amenities               9582 non-null   category\n",
            " 12  price                   9582 non-null   int64   \n",
            " 13  minimum_nights          9582 non-null   int64   \n",
            " 14  maximum_nights          9582 non-null   int64   \n",
            " 15  has_availability        9582 non-null   category\n",
            " 16  availability_30         9582 non-null   int64   \n",
            " 17  availability_60         9582 non-null   int64   \n",
            " 18  availability_90         9582 non-null   int64   \n",
            " 19  availability_365        9582 non-null   int64   \n",
            " 20  number_of_reviews       9582 non-null   int64   \n",
            " 21  number_of_reviews_ltm   9582 non-null   int64   \n",
            " 22  number_of_reviews_l30d  9582 non-null   int64   \n",
            " 23  license                 7660 non-null   category\n",
            " 24  instant_bookable        9582 non-null   category\n",
            " 25  reviews_per_month       7874 non-null   float64 \n",
            " 26  hostYear                9579 non-null   float64 \n",
            " 27  hostMonth               9579 non-null   float64 \n",
            " 28  hostDay                 9579 non-null   float64 \n",
            " 29  hostDayOfWeek           9579 non-null   float64 \n",
            " 30  hostDayOfYear           9579 non-null   float64 \n",
            "dtypes: category(10), float64(10), int64(11)\n",
            "memory usage: 2.3 MB\n"
          ]
        }
      ]
    },
    {
      "cell_type": "code",
      "source": [
        "df_tmp.neighbourhood_cleansed.cat.categories"
      ],
      "metadata": {
        "colab": {
          "base_uri": "https://localhost:8080/"
        },
        "id": "CE1TJN9-MESp",
        "outputId": "3cef4527-5d41-4ae6-d2b4-b70693ea79d9"
      },
      "execution_count": 29,
      "outputs": [
        {
          "output_type": "execute_result",
          "data": {
            "text/plain": [
              "Index(['1Ο ΝΕΚΡΟΤΑΦΕΙΟ', 'ΑΓΙΟΣ ΕΛΕΥΘΕΡΙΟΣ',\n",
              "       'ΑΓΙΟΣ ΚΩΝΣΤΑΝΤΙΝΟΣ-ΠΛΑΤΕΙΑ ΒΑΘΗΣ', 'ΑΓΙΟΣ ΝΙΚΟΛΑΟΣ',\n",
              "       'ΑΚΑΔΗΜΙΑ ΠΛΑΤΩΝΟΣ', 'ΑΚΡΟΠΟΛΗ', 'ΑΜΠΕΛΟΚΗΠΟΙ', 'ΑΝΩ ΚΥΨΕΛΗ',\n",
              "       'ΑΝΩ ΠΑΤΗΣΙΑ', 'ΒΟΤΑΝΙΚΟΣ', 'ΓΚΑΖΙ', 'ΓΚΥΖΗ', 'ΓΟΥΒΑ', 'ΓΟΥΔΙ',\n",
              "       'ΕΛΛΗΝΟΡΩΣΩΝ', 'ΕΜΠΟΡΙΚΟ ΤΡΙΓΩΝΟ-ΠΛΑΚΑ', 'ΖΑΠΠΕΙΟ', 'ΘΗΣΕΙΟ', 'ΙΛΙΣΙΑ',\n",
              "       'ΚΕΡΑΜΕΙΚΟΣ', 'ΚΟΛΟΚΥΝΘΟΥ', 'ΚΟΛΩΝΑΚΙ', 'ΚΟΛΩΝΟΣ',\n",
              "       'ΚΟΥΚΑΚΙ-ΜΑΚΡΥΓΙΑΝΝΗ', 'ΚΥΨΕΛΗ', 'ΛΥΚΑΒΗΤΤΟΣ',\n",
              "       'ΜΟΥΣΕΙΟ-ΕΞΑΡΧΕΙΑ-ΝΕΑΠΟΛΗ', 'ΝΕΑ ΚΥΨΕΛΗ', 'ΝΕΟΣ ΚΟΣΜΟΣ', 'ΝΙΡΒΑΝΑ',\n",
              "       'ΠΑΓΚΡΑΤΙ', 'ΠΑΤΗΣΙΑ', 'ΠΕΔΙΟ ΑΡΕΩΣ', 'ΠΕΝΤΑΓΩΝΟ', 'ΠΕΤΡΑΛΩΝΑ',\n",
              "       'ΠΛΑΤΕΙΑ ΑΜΕΡΙΚΗΣ', 'ΠΛΑΤΕΙΑ ΑΤΤΙΚΗΣ', 'ΠΟΛΥΓΩΝΟ', 'ΠΡΟΜΠΟΝΑ',\n",
              "       'ΡΗΓΙΛΛΗΣ', 'ΡΙΖΟΥΠΟΛΗ', 'ΣΕΠΟΛΙΑ', 'ΣΤΑΔΙΟ', 'ΣΤΑΘΜΟΣ ΛΑΡΙΣΗΣ'],\n",
              "      dtype='object')"
            ]
          },
          "metadata": {},
          "execution_count": 29
        }
      ]
    },
    {
      "cell_type": "code",
      "source": [
        "df_tmp.neighbourhood_cleansed.value_counts()"
      ],
      "metadata": {
        "colab": {
          "base_uri": "https://localhost:8080/"
        },
        "id": "wQ6SFfIlMzGe",
        "outputId": "c86c8992-95af-4e67-e05d-b70fadd7f06c"
      },
      "execution_count": 30,
      "outputs": [
        {
          "output_type": "execute_result",
          "data": {
            "text/plain": [
              "ΕΜΠΟΡΙΚΟ ΤΡΙΓΩΝΟ-ΠΛΑΚΑ              1866\n",
              "ΚΟΥΚΑΚΙ-ΜΑΚΡΥΓΙΑΝΝΗ                  841\n",
              "ΝΕΟΣ ΚΟΣΜΟΣ                          713\n",
              "ΜΟΥΣΕΙΟ-ΕΞΑΡΧΕΙΑ-ΝΕΑΠΟΛΗ             699\n",
              "ΑΓΙΟΣ ΚΩΝΣΤΑΝΤΙΝΟΣ-ΠΛΑΤΕΙΑ ΒΑΘΗΣ     599\n",
              "ΠΑΓΚΡΑΤΙ                             383\n",
              "ΠΛΑΤΕΙΑ ΑΤΤΙΚΗΣ                      381\n",
              "ΚΟΛΩΝΑΚΙ                             330\n",
              "ΑΜΠΕΛΟΚΗΠΟΙ                          329\n",
              "ΑΚΡΟΠΟΛΗ                             319\n",
              "ΘΗΣΕΙΟ                               294\n",
              "ΚΕΡΑΜΕΙΚΟΣ                           244\n",
              "ΣΤΑΔΙΟ                               223\n",
              "ΠΕΤΡΑΛΩΝΑ                            214\n",
              "ΚΥΨΕΛΗ                               201\n",
              "ΙΛΙΣΙΑ                               172\n",
              "ΓΟΥΔΙ                                162\n",
              "ΖΑΠΠΕΙΟ                              141\n",
              "ΠΑΤΗΣΙΑ                              117\n",
              "ΛΥΚΑΒΗΤΤΟΣ                           117\n",
              "ΠΛΑΤΕΙΑ ΑΜΕΡΙΚΗΣ                     116\n",
              "ΝΙΡΒΑΝΑ                              105\n",
              "ΓΚΥΖΗ                                 88\n",
              "ΚΟΛΩΝΟΣ                               82\n",
              "ΣΤΑΘΜΟΣ ΛΑΡΙΣΗΣ                       79\n",
              "ΠΕΔΙΟ ΑΡΕΩΣ                           78\n",
              "ΓΚΑΖΙ                                 72\n",
              "ΑΝΩ ΚΥΨΕΛΗ                            71\n",
              "ΑΓΙΟΣ ΝΙΚΟΛΑΟΣ                        70\n",
              "ΒΟΤΑΝΙΚΟΣ                             62\n",
              "ΑΚΑΔΗΜΙΑ ΠΛΑΤΩΝΟΣ                     61\n",
              "ΑΝΩ ΠΑΤΗΣΙΑ                           58\n",
              "ΓΟΥΒΑ                                 53\n",
              "ΝΕΑ ΚΥΨΕΛΗ                            52\n",
              "ΕΛΛΗΝΟΡΩΣΩΝ                           42\n",
              "1Ο ΝΕΚΡΟΤΑΦΕΙΟ                        33\n",
              "ΣΕΠΟΛΙΑ                               28\n",
              "ΠΟΛΥΓΩΝΟ                              24\n",
              "ΑΓΙΟΣ ΕΛΕΥΘΕΡΙΟΣ                      21\n",
              "ΚΟΛΟΚΥΝΘΟΥ                            18\n",
              "ΡΙΖΟΥΠΟΛΗ                             10\n",
              "ΠΡΟΜΠΟΝΑ                               9\n",
              "ΡΗΓΙΛΛΗΣ                               3\n",
              "ΠΕΝΤΑΓΩΝΟ                              2\n",
              "Name: neighbourhood_cleansed, dtype: int64"
            ]
          },
          "metadata": {},
          "execution_count": 30
        }
      ]
    },
    {
      "cell_type": "code",
      "source": [
        "df_tmp.neighbourhood_cleansed.cat.codes "
      ],
      "metadata": {
        "colab": {
          "base_uri": "https://localhost:8080/"
        },
        "id": "OHNjwjwLfRZH",
        "outputId": "934154b8-93a2-456c-94e0-03ba62104ab0"
      },
      "execution_count": 31,
      "outputs": [
        {
          "output_type": "execute_result",
          "data": {
            "text/plain": [
              "0        6\n",
              "1        6\n",
              "2        6\n",
              "3        6\n",
              "4        6\n",
              "        ..\n",
              "9553    15\n",
              "9561     2\n",
              "1587    43\n",
              "1791    18\n",
              "5459    30\n",
              "Length: 9582, dtype: int8"
            ]
          },
          "metadata": {},
          "execution_count": 31
        }
      ]
    },
    {
      "cell_type": "code",
      "source": [
        "df_tmp.isnull().sum()/len(df_tmp)"
      ],
      "metadata": {
        "colab": {
          "base_uri": "https://localhost:8080/"
        },
        "id": "SLcpYZhgfrBM",
        "outputId": "a31a1e4c-e32a-4ec4-a354-b0f4fbe840bb"
      },
      "execution_count": 32,
      "outputs": [
        {
          "output_type": "execute_result",
          "data": {
            "text/plain": [
              "host_is_superhost         0.000313\n",
              "host_listings_count       0.000313\n",
              "host_identity_verified    0.000313\n",
              "neighbourhood_cleansed    0.000000\n",
              "latitude                  0.000000\n",
              "longitude                 0.000000\n",
              "property_type             0.000000\n",
              "room_type                 0.000000\n",
              "accommodates              0.000000\n",
              "bathrooms_text            0.001044\n",
              "beds                      0.007097\n",
              "amenities                 0.000000\n",
              "price                     0.000000\n",
              "minimum_nights            0.000000\n",
              "maximum_nights            0.000000\n",
              "has_availability          0.000000\n",
              "availability_30           0.000000\n",
              "availability_60           0.000000\n",
              "availability_90           0.000000\n",
              "availability_365          0.000000\n",
              "number_of_reviews         0.000000\n",
              "number_of_reviews_ltm     0.000000\n",
              "number_of_reviews_l30d    0.000000\n",
              "license                   0.200584\n",
              "instant_bookable          0.000000\n",
              "reviews_per_month         0.178251\n",
              "hostYear                  0.000313\n",
              "hostMonth                 0.000313\n",
              "hostDay                   0.000313\n",
              "hostDayOfWeek             0.000313\n",
              "hostDayOfYear             0.000313\n",
              "dtype: float64"
            ]
          },
          "metadata": {},
          "execution_count": 32
        }
      ]
    },
    {
      "cell_type": "code",
      "source": [
        "# export the df_tmp\n",
        "df_tmp.to_csv(\"df_tmp.csv\", index=False)"
      ],
      "metadata": {
        "id": "R1oKchPihFHH"
      },
      "execution_count": 33,
      "outputs": []
    },
    {
      "cell_type": "code",
      "source": [
        "# fill num missing values with median\n",
        "for label, content in df_tmp.items():\n",
        "  if pd.api.types.is_numeric_dtype(content):\n",
        "    if pd.isnull(content).sum():\n",
        "      df_tmp[label] = content.fillna(content.median())"
      ],
      "metadata": {
        "id": "qnsjXQcchbCJ"
      },
      "execution_count": 34,
      "outputs": []
    },
    {
      "cell_type": "code",
      "source": [
        "# fill missing and turn categorical values into numbers\n",
        "for label, content in df_tmp.items():\n",
        "  if not pd.api.types.is_numeric_dtype(content):\n",
        "    df_tmp[label] = pd.Categorical(content).codes + 1"
      ],
      "metadata": {
        "id": "zoIc2VNgqB4y"
      },
      "execution_count": 35,
      "outputs": []
    },
    {
      "cell_type": "code",
      "source": [
        "df_tmp.info()"
      ],
      "metadata": {
        "colab": {
          "base_uri": "https://localhost:8080/"
        },
        "id": "bjmd6GZ_sBON",
        "outputId": "81cc86cd-6a01-48a0-b802-462ba432e697"
      },
      "execution_count": 36,
      "outputs": [
        {
          "output_type": "stream",
          "name": "stdout",
          "text": [
            "<class 'pandas.core.frame.DataFrame'>\n",
            "Int64Index: 9582 entries, 0 to 5459\n",
            "Data columns (total 31 columns):\n",
            " #   Column                  Non-Null Count  Dtype  \n",
            "---  ------                  --------------  -----  \n",
            " 0   host_is_superhost       9582 non-null   int8   \n",
            " 1   host_listings_count     9582 non-null   float64\n",
            " 2   host_identity_verified  9582 non-null   int8   \n",
            " 3   neighbourhood_cleansed  9582 non-null   int8   \n",
            " 4   latitude                9582 non-null   float64\n",
            " 5   longitude               9582 non-null   float64\n",
            " 6   property_type           9582 non-null   int8   \n",
            " 7   room_type               9582 non-null   int8   \n",
            " 8   accommodates            9582 non-null   int64  \n",
            " 9   bathrooms_text          9582 non-null   int8   \n",
            " 10  beds                    9582 non-null   float64\n",
            " 11  amenities               9582 non-null   int16  \n",
            " 12  price                   9582 non-null   int64  \n",
            " 13  minimum_nights          9582 non-null   int64  \n",
            " 14  maximum_nights          9582 non-null   int64  \n",
            " 15  has_availability        9582 non-null   int8   \n",
            " 16  availability_30         9582 non-null   int64  \n",
            " 17  availability_60         9582 non-null   int64  \n",
            " 18  availability_90         9582 non-null   int64  \n",
            " 19  availability_365        9582 non-null   int64  \n",
            " 20  number_of_reviews       9582 non-null   int64  \n",
            " 21  number_of_reviews_ltm   9582 non-null   int64  \n",
            " 22  number_of_reviews_l30d  9582 non-null   int64  \n",
            " 23  license                 9582 non-null   int16  \n",
            " 24  instant_bookable        9582 non-null   int8   \n",
            " 25  reviews_per_month       9582 non-null   float64\n",
            " 26  hostYear                9582 non-null   float64\n",
            " 27  hostMonth               9582 non-null   float64\n",
            " 28  hostDay                 9582 non-null   float64\n",
            " 29  hostDayOfWeek           9582 non-null   float64\n",
            " 30  hostDayOfYear           9582 non-null   float64\n",
            "dtypes: float64(10), int16(2), int64(11), int8(8)\n",
            "memory usage: 1.7 MB\n"
          ]
        }
      ]
    },
    {
      "cell_type": "code",
      "source": [
        "df_tmp.isna().sum()"
      ],
      "metadata": {
        "colab": {
          "base_uri": "https://localhost:8080/"
        },
        "id": "6ifeN6GqKJDN",
        "outputId": "c0cf2b9f-4bfe-4b4a-ae10-d78f719dafad"
      },
      "execution_count": 37,
      "outputs": [
        {
          "output_type": "execute_result",
          "data": {
            "text/plain": [
              "host_is_superhost         0\n",
              "host_listings_count       0\n",
              "host_identity_verified    0\n",
              "neighbourhood_cleansed    0\n",
              "latitude                  0\n",
              "longitude                 0\n",
              "property_type             0\n",
              "room_type                 0\n",
              "accommodates              0\n",
              "bathrooms_text            0\n",
              "beds                      0\n",
              "amenities                 0\n",
              "price                     0\n",
              "minimum_nights            0\n",
              "maximum_nights            0\n",
              "has_availability          0\n",
              "availability_30           0\n",
              "availability_60           0\n",
              "availability_90           0\n",
              "availability_365          0\n",
              "number_of_reviews         0\n",
              "number_of_reviews_ltm     0\n",
              "number_of_reviews_l30d    0\n",
              "license                   0\n",
              "instant_bookable          0\n",
              "reviews_per_month         0\n",
              "hostYear                  0\n",
              "hostMonth                 0\n",
              "hostDay                   0\n",
              "hostDayOfWeek             0\n",
              "hostDayOfYear             0\n",
              "dtype: int64"
            ]
          },
          "metadata": {},
          "execution_count": 37
        }
      ]
    },
    {
      "cell_type": "code",
      "source": [
        "# build the model\n",
        "from sklearn.ensemble import RandomForestRegressor\n",
        "model = RandomForestRegressor(n_jobs=-1, random_state=2)\n",
        "\n",
        "X = df_tmp.drop('price', axis=1)\n",
        "y = df_tmp['price']\n",
        "\n"
      ],
      "metadata": {
        "id": "YNhfz1i1MsLA"
      },
      "execution_count": 38,
      "outputs": []
    },
    {
      "cell_type": "code",
      "source": [
        "# split data\n",
        "X_train, X_test, y_train, y_test = train_test_split(X, y, test_size=0.2)\n",
        "\n"
      ],
      "metadata": {
        "id": "3YMP1hc4zp53"
      },
      "execution_count": 39,
      "outputs": []
    },
    {
      "cell_type": "code",
      "source": [
        "from sklearn.metrics import mean_absolute_error, mean_absolute_percentage_error, r2_score"
      ],
      "metadata": {
        "id": "VF_6fSAD54xX"
      },
      "execution_count": 40,
      "outputs": []
    },
    {
      "cell_type": "code",
      "source": [
        "# evaluate the model\n",
        "def show_scores(model):\n",
        "  train_preds = model.predict(X_train)\n",
        "  test_preds = model.predict(X_test)\n",
        "  scores = {\"Training MAE\": mean_absolute_error(y_train, train_preds), \n",
        "            \"Test MAE\": mean_absolute_error(y_test, test_preds), \n",
        "            \"Training MAPE\": mean_absolute_percentage_error(y_train, train_preds),\n",
        "            \"Test MAPE\": mean_absolute_percentage_error(y_test, test_preds),\n",
        "            \"Training R^2\": r2_score(y_train, train_preds),\n",
        "            \"Test R^2\": r2_score(y_test, test_preds)}\n",
        "  return scores"
      ],
      "metadata": {
        "id": "EgJrr9n0hgYW"
      },
      "execution_count": 41,
      "outputs": []
    },
    {
      "cell_type": "code",
      "source": [
        "model.fit(X_train, y_train)"
      ],
      "metadata": {
        "colab": {
          "base_uri": "https://localhost:8080/"
        },
        "id": "CZFacYwFlKQV",
        "outputId": "c3959302-4ea1-4fa3-b07d-29ee295c8486"
      },
      "execution_count": 42,
      "outputs": [
        {
          "output_type": "execute_result",
          "data": {
            "text/plain": [
              "RandomForestRegressor(n_jobs=-1, random_state=2)"
            ]
          },
          "metadata": {},
          "execution_count": 42
        }
      ]
    },
    {
      "cell_type": "code",
      "source": [
        "show_scores(model)"
      ],
      "metadata": {
        "colab": {
          "base_uri": "https://localhost:8080/"
        },
        "id": "StvynUd91wvo",
        "outputId": "3a4b7ef7-05ce-422b-e7f6-180780b0cc9d"
      },
      "execution_count": 44,
      "outputs": [
        {
          "output_type": "execute_result",
          "data": {
            "text/plain": [
              "{'Training MAE': 15.925334637964776,\n",
              " 'Test MAE': 55.45168492436098,\n",
              " 'Training MAPE': 0.2228221078868123,\n",
              " 'Test MAPE': 0.6527887781695162,\n",
              " 'Training R^2': 0.9128542971143883,\n",
              " 'Test R^2': -0.0821189110654097}"
            ]
          },
          "metadata": {},
          "execution_count": 44
        }
      ]
    },
    {
      "cell_type": "code",
      "source": [
        "# tuning hyperparameter\n",
        "from sklearn.model_selection import RandomizedSearchCV\n",
        "\n",
        "rf_grid = {\"n_estimators\": np.arange(10, 100, 10),\n",
        "           \"max_depth\": [None, 3, 5, 10],\n",
        "           \"min_samples_split\": np.arange(2, 20, 2),\n",
        "           \"min_samples_leaf\": np.arange(1, 20, 2),\n",
        "           \"max_features\": [0.5, 1, \"sqrt\", \"auto\"]}\n",
        "\n",
        "rs_model = RandomizedSearchCV(RandomForestRegressor(n_jobs=-1, random_state=2),\n",
        "                              param_distributions=rf_grid,\n",
        "                              n_iter=200, cv=10, verbose=True)\n",
        "\n",
        "rs_model.fit(X_train, y_train)"
      ],
      "metadata": {
        "colab": {
          "base_uri": "https://localhost:8080/"
        },
        "id": "RS9zNLGE4mg5",
        "outputId": "9077d181-5dfb-436b-af43-849c848999ef"
      },
      "execution_count": 68,
      "outputs": [
        {
          "output_type": "stream",
          "name": "stdout",
          "text": [
            "Fitting 10 folds for each of 200 candidates, totalling 2000 fits\n"
          ]
        },
        {
          "output_type": "execute_result",
          "data": {
            "text/plain": [
              "RandomizedSearchCV(cv=10,\n",
              "                   estimator=RandomForestRegressor(n_jobs=-1, random_state=2),\n",
              "                   n_iter=200,\n",
              "                   param_distributions={'max_depth': [None, 3, 5, 10],\n",
              "                                        'max_features': [0.5, 1, 'sqrt',\n",
              "                                                         'auto'],\n",
              "                                        'min_samples_leaf': array([ 1,  3,  5,  7,  9, 11, 13, 15, 17, 19]),\n",
              "                                        'min_samples_split': array([ 2,  4,  6,  8, 10, 12, 14, 16, 18]),\n",
              "                                        'n_estimators': array([10, 20, 30, 40, 50, 60, 70, 80, 90])},\n",
              "                   verbose=True)"
            ]
          },
          "metadata": {},
          "execution_count": 68
        }
      ]
    },
    {
      "cell_type": "code",
      "source": [
        "rs_model.best_params_"
      ],
      "metadata": {
        "colab": {
          "base_uri": "https://localhost:8080/"
        },
        "id": "LHl_dZEy5_Mw",
        "outputId": "62d42623-49b0-40b2-8957-9b4d70274be3"
      },
      "execution_count": 69,
      "outputs": [
        {
          "output_type": "execute_result",
          "data": {
            "text/plain": [
              "{'n_estimators': 90,\n",
              " 'min_samples_split': 6,\n",
              " 'min_samples_leaf': 3,\n",
              " 'max_features': 'sqrt',\n",
              " 'max_depth': None}"
            ]
          },
          "metadata": {},
          "execution_count": 69
        }
      ]
    },
    {
      "cell_type": "code",
      "source": [
        "show_scores(rs_model)"
      ],
      "metadata": {
        "colab": {
          "base_uri": "https://localhost:8080/"
        },
        "id": "KjL1BpKA_OBb",
        "outputId": "79a82770-35ec-4297-9784-e2da73a51a5d"
      },
      "execution_count": 71,
      "outputs": [
        {
          "output_type": "execute_result",
          "data": {
            "text/plain": [
              "{'Training MAE': 28.08205801001322,\n",
              " 'Test MAE': 48.77402204808682,\n",
              " 'Training MAPE': 0.38670124927378696,\n",
              " 'Test MAPE': 0.6116439229271747,\n",
              " 'Training R^2': 0.6376246684629657,\n",
              " 'Test R^2': 0.1364074054108544}"
            ]
          },
          "metadata": {},
          "execution_count": 71
        }
      ]
    },
    {
      "cell_type": "code",
      "source": [
        "ideal_model = RandomForestRegressor(n_estimators=90, \n",
        "                                    min_samples_split=6,\n",
        "                                    min_samples_leaf=3,\n",
        "                                    max_features= 'sqrt',\n",
        "                                    max_depth= None,\n",
        "                                    n_jobs=-1,\n",
        "                                    max_samples=None, random_state=2)\n",
        "ideal_model.fit(X_train, y_train)"
      ],
      "metadata": {
        "colab": {
          "base_uri": "https://localhost:8080/"
        },
        "id": "sYpaggvD_hyS",
        "outputId": "ad8bbdd9-b3bb-4551-af7c-db7c44cfee7d"
      },
      "execution_count": 72,
      "outputs": [
        {
          "output_type": "execute_result",
          "data": {
            "text/plain": [
              "RandomForestRegressor(max_features='sqrt', min_samples_leaf=3,\n",
              "                      min_samples_split=6, n_estimators=90, n_jobs=-1,\n",
              "                      random_state=2)"
            ]
          },
          "metadata": {},
          "execution_count": 72
        }
      ]
    },
    {
      "cell_type": "code",
      "source": [
        "# make predictions\n",
        "test_preds = ideal_model.predict(X_test)"
      ],
      "metadata": {
        "id": "a7dcSmBp99nK"
      },
      "execution_count": 73,
      "outputs": []
    },
    {
      "cell_type": "code",
      "source": [
        "test_preds"
      ],
      "metadata": {
        "colab": {
          "base_uri": "https://localhost:8080/"
        },
        "id": "ekGkUpPw1r4X",
        "outputId": "504302be-ceb0-4b69-ccd9-0e06f5cec312"
      },
      "execution_count": 74,
      "outputs": [
        {
          "output_type": "execute_result",
          "data": {
            "text/plain": [
              "array([ 63.24977513,  48.53184343,  32.17535273, ...,  42.66608666,\n",
              "       122.71941   , 104.29572896])"
            ]
          },
          "metadata": {},
          "execution_count": 74
        }
      ]
    },
    {
      "cell_type": "code",
      "source": [
        "df_preds = pd.DataFrame()\n",
        "df_preds[\"price\"] = test_preds"
      ],
      "metadata": {
        "id": "OUdhbNJvT47Y"
      },
      "execution_count": 76,
      "outputs": []
    },
    {
      "cell_type": "code",
      "source": [
        "df_preds"
      ],
      "metadata": {
        "colab": {
          "base_uri": "https://localhost:8080/",
          "height": 423
        },
        "id": "gFHnn5RnUDZz",
        "outputId": "d3c1e4c7-a421-46e0-b18d-7a3326d552d7"
      },
      "execution_count": 77,
      "outputs": [
        {
          "output_type": "execute_result",
          "data": {
            "text/plain": [
              "           price\n",
              "0      63.249775\n",
              "1      48.531843\n",
              "2      32.175353\n",
              "3      43.725731\n",
              "4      61.283563\n",
              "...          ...\n",
              "1912  166.589364\n",
              "1913   54.839097\n",
              "1914   42.666087\n",
              "1915  122.719410\n",
              "1916  104.295729\n",
              "\n",
              "[1917 rows x 1 columns]"
            ],
            "text/html": [
              "\n",
              "  <div id=\"df-a3799696-6cf1-434b-9f22-a4033162312d\">\n",
              "    <div class=\"colab-df-container\">\n",
              "      <div>\n",
              "<style scoped>\n",
              "    .dataframe tbody tr th:only-of-type {\n",
              "        vertical-align: middle;\n",
              "    }\n",
              "\n",
              "    .dataframe tbody tr th {\n",
              "        vertical-align: top;\n",
              "    }\n",
              "\n",
              "    .dataframe thead th {\n",
              "        text-align: right;\n",
              "    }\n",
              "</style>\n",
              "<table border=\"1\" class=\"dataframe\">\n",
              "  <thead>\n",
              "    <tr style=\"text-align: right;\">\n",
              "      <th></th>\n",
              "      <th>price</th>\n",
              "    </tr>\n",
              "  </thead>\n",
              "  <tbody>\n",
              "    <tr>\n",
              "      <th>0</th>\n",
              "      <td>63.249775</td>\n",
              "    </tr>\n",
              "    <tr>\n",
              "      <th>1</th>\n",
              "      <td>48.531843</td>\n",
              "    </tr>\n",
              "    <tr>\n",
              "      <th>2</th>\n",
              "      <td>32.175353</td>\n",
              "    </tr>\n",
              "    <tr>\n",
              "      <th>3</th>\n",
              "      <td>43.725731</td>\n",
              "    </tr>\n",
              "    <tr>\n",
              "      <th>4</th>\n",
              "      <td>61.283563</td>\n",
              "    </tr>\n",
              "    <tr>\n",
              "      <th>...</th>\n",
              "      <td>...</td>\n",
              "    </tr>\n",
              "    <tr>\n",
              "      <th>1912</th>\n",
              "      <td>166.589364</td>\n",
              "    </tr>\n",
              "    <tr>\n",
              "      <th>1913</th>\n",
              "      <td>54.839097</td>\n",
              "    </tr>\n",
              "    <tr>\n",
              "      <th>1914</th>\n",
              "      <td>42.666087</td>\n",
              "    </tr>\n",
              "    <tr>\n",
              "      <th>1915</th>\n",
              "      <td>122.719410</td>\n",
              "    </tr>\n",
              "    <tr>\n",
              "      <th>1916</th>\n",
              "      <td>104.295729</td>\n",
              "    </tr>\n",
              "  </tbody>\n",
              "</table>\n",
              "<p>1917 rows × 1 columns</p>\n",
              "</div>\n",
              "      <button class=\"colab-df-convert\" onclick=\"convertToInteractive('df-a3799696-6cf1-434b-9f22-a4033162312d')\"\n",
              "              title=\"Convert this dataframe to an interactive table.\"\n",
              "              style=\"display:none;\">\n",
              "        \n",
              "  <svg xmlns=\"http://www.w3.org/2000/svg\" height=\"24px\"viewBox=\"0 0 24 24\"\n",
              "       width=\"24px\">\n",
              "    <path d=\"M0 0h24v24H0V0z\" fill=\"none\"/>\n",
              "    <path d=\"M18.56 5.44l.94 2.06.94-2.06 2.06-.94-2.06-.94-.94-2.06-.94 2.06-2.06.94zm-11 1L8.5 8.5l.94-2.06 2.06-.94-2.06-.94L8.5 2.5l-.94 2.06-2.06.94zm10 10l.94 2.06.94-2.06 2.06-.94-2.06-.94-.94-2.06-.94 2.06-2.06.94z\"/><path d=\"M17.41 7.96l-1.37-1.37c-.4-.4-.92-.59-1.43-.59-.52 0-1.04.2-1.43.59L10.3 9.45l-7.72 7.72c-.78.78-.78 2.05 0 2.83L4 21.41c.39.39.9.59 1.41.59.51 0 1.02-.2 1.41-.59l7.78-7.78 2.81-2.81c.8-.78.8-2.07 0-2.86zM5.41 20L4 18.59l7.72-7.72 1.47 1.35L5.41 20z\"/>\n",
              "  </svg>\n",
              "      </button>\n",
              "      \n",
              "  <style>\n",
              "    .colab-df-container {\n",
              "      display:flex;\n",
              "      flex-wrap:wrap;\n",
              "      gap: 12px;\n",
              "    }\n",
              "\n",
              "    .colab-df-convert {\n",
              "      background-color: #E8F0FE;\n",
              "      border: none;\n",
              "      border-radius: 50%;\n",
              "      cursor: pointer;\n",
              "      display: none;\n",
              "      fill: #1967D2;\n",
              "      height: 32px;\n",
              "      padding: 0 0 0 0;\n",
              "      width: 32px;\n",
              "    }\n",
              "\n",
              "    .colab-df-convert:hover {\n",
              "      background-color: #E2EBFA;\n",
              "      box-shadow: 0px 1px 2px rgba(60, 64, 67, 0.3), 0px 1px 3px 1px rgba(60, 64, 67, 0.15);\n",
              "      fill: #174EA6;\n",
              "    }\n",
              "\n",
              "    [theme=dark] .colab-df-convert {\n",
              "      background-color: #3B4455;\n",
              "      fill: #D2E3FC;\n",
              "    }\n",
              "\n",
              "    [theme=dark] .colab-df-convert:hover {\n",
              "      background-color: #434B5C;\n",
              "      box-shadow: 0px 1px 3px 1px rgba(0, 0, 0, 0.15);\n",
              "      filter: drop-shadow(0px 1px 2px rgba(0, 0, 0, 0.3));\n",
              "      fill: #FFFFFF;\n",
              "    }\n",
              "  </style>\n",
              "\n",
              "      <script>\n",
              "        const buttonEl =\n",
              "          document.querySelector('#df-a3799696-6cf1-434b-9f22-a4033162312d button.colab-df-convert');\n",
              "        buttonEl.style.display =\n",
              "          google.colab.kernel.accessAllowed ? 'block' : 'none';\n",
              "\n",
              "        async function convertToInteractive(key) {\n",
              "          const element = document.querySelector('#df-a3799696-6cf1-434b-9f22-a4033162312d');\n",
              "          const dataTable =\n",
              "            await google.colab.kernel.invokeFunction('convertToInteractive',\n",
              "                                                     [key], {});\n",
              "          if (!dataTable) return;\n",
              "\n",
              "          const docLinkHtml = 'Like what you see? Visit the ' +\n",
              "            '<a target=\"_blank\" href=https://colab.research.google.com/notebooks/data_table.ipynb>data table notebook</a>'\n",
              "            + ' to learn more about interactive tables.';\n",
              "          element.innerHTML = '';\n",
              "          dataTable['output_type'] = 'display_data';\n",
              "          await google.colab.output.renderOutput(dataTable, element);\n",
              "          const docLink = document.createElement('div');\n",
              "          docLink.innerHTML = docLinkHtml;\n",
              "          element.appendChild(docLink);\n",
              "        }\n",
              "      </script>\n",
              "    </div>\n",
              "  </div>\n",
              "  "
            ]
          },
          "metadata": {},
          "execution_count": 77
        }
      ]
    }
  ]
}